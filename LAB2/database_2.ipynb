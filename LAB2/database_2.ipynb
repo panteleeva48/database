{
 "cells": [
  {
   "cell_type": "code",
   "execution_count": 1,
   "metadata": {
    "collapsed": true
   },
   "outputs": [],
   "source": [
    "import mysql.connector"
   ]
  },
  {
   "cell_type": "markdown",
   "metadata": {},
   "source": [
    "# INFO\n",
    "**На Flask не все запросы реализованы, все запросы представлены в этой тетрадке. Приложение на Flask - пример, как может это выглядеть.**"
   ]
  },
  {
   "cell_type": "markdown",
   "metadata": {},
   "source": [
    "## Подготовка:\n",
    "Создание базы данных, таблиц"
   ]
  },
  {
   "cell_type": "markdown",
   "metadata": {},
   "source": [
    "```python\n",
    "mydb = mysql.connector.connect(\n",
    "  host=\"localhost\",\n",
    "  user=\"irene\",\n",
    "  password=\"Vasya123\"\n",
    ")\n",
    "\n",
    "mycursor = mydb.cursor()\n",
    "mycursor.execute(\"CREATE DATABASE schedule\")\n",
    "```"
   ]
  },
  {
   "cell_type": "code",
   "execution_count": 2,
   "metadata": {
    "collapsed": true
   },
   "outputs": [],
   "source": [
    "mydb = mysql.connector.connect(\n",
    "  host=\"localhost\",\n",
    "  user=\"irene\",\n",
    "  password=\"Vasya123\",\n",
    "  database=\"schedule\"\n",
    ")\n",
    "mycursor = mydb.cursor()"
   ]
  },
  {
   "cell_type": "markdown",
   "metadata": {},
   "source": [
    "My system's databases"
   ]
  },
  {
   "cell_type": "code",
   "execution_count": 3,
   "metadata": {},
   "outputs": [
    {
     "name": "stdout",
     "output_type": "stream",
     "text": [
      "('information_schema',)\n",
      "('mysql',)\n",
      "('performance_schema',)\n",
      "('schedule',)\n",
      "('sys',)\n"
     ]
    }
   ],
   "source": [
    "mycursor.execute(\"SHOW DATABASES\")\n",
    "\n",
    "for x in mycursor:\n",
    "    print(x)"
   ]
  },
  {
   "cell_type": "markdown",
   "metadata": {},
   "source": [
    "### Задание:\n",
    "    У института есть преподаватели, учебные группы и аудитории. Организовать хранение расписания.\n",
    "### Таблицы:\n",
    "    1) BATCHES (id, Name): type(Name) = TEXT\n",
    "    2) CLASSES (id, Name): type(Name) = TEXT\n",
    "    3) BUILDINGS (id, Address): type(Address) = TEXT\n",
    "    4) CLASSROOMS (id, Number, id Address): type(Number) = INT\n",
    "    5) STUDENTS (id, Name, id Batch, Email): type(Name) = TEXT, type(Email) = TEXT\n",
    "    6) SCHEDULE (id, Date_Time, Teacher, id Batch, Classroom, id Building, id Class, id Student): type(Date_Time) = DATETIME"
   ]
  },
  {
   "cell_type": "code",
   "execution_count": 4,
   "metadata": {
    "collapsed": true
   },
   "outputs": [],
   "source": [
    "mycursor.execute(\"DROP TABLE BATCHES, CLASSES, BUILDINGS, CLASSROOMS, STUDENTS, SCHEDULE\")"
   ]
  },
  {
   "cell_type": "code",
   "execution_count": 5,
   "metadata": {
    "collapsed": true
   },
   "outputs": [],
   "source": [
    "mycursor.execute(\"CREATE TABLE BATCHES (id INT AUTO_INCREMENT PRIMARY KEY, Name TEXT)\")\n",
    "mycursor.execute(\"CREATE TABLE CLASSES (id INT AUTO_INCREMENT PRIMARY KEY, Name TEXT)\")\n",
    "mycursor.execute(\"CREATE TABLE BUILDINGS (id INT AUTO_INCREMENT PRIMARY KEY, Address TEXT)\")\n",
    "mycursor.execute(\"CREATE TABLE CLASSROOMS (id INT AUTO_INCREMENT PRIMARY KEY, Number INT, Address INT)\")\n",
    "mycursor.execute(\"CREATE TABLE STUDENTS (id INT AUTO_INCREMENT PRIMARY KEY, Name TEXT, Batch INT, Email TEXT)\")\n",
    "mycursor.execute(\"CREATE TABLE SCHEDULE (id INT AUTO_INCREMENT PRIMARY KEY, Date_Time DATETIME, Teacher TEXT, \\\n",
    "                    Batch INT, Classroom INT, Building INT, Class INT, Student INT)\")"
   ]
  },
  {
   "cell_type": "code",
   "execution_count": 6,
   "metadata": {},
   "outputs": [
    {
     "name": "stdout",
     "output_type": "stream",
     "text": [
      "('BATCHES',)\n",
      "('BUILDINGS',)\n",
      "('CLASSES',)\n",
      "('CLASSROOMS',)\n",
      "('SCHEDULE',)\n",
      "('STUDENTS',)\n"
     ]
    }
   ],
   "source": [
    "mycursor.execute(\"SHOW TABLES\")\n",
    "\n",
    "for x in mycursor:\n",
    "    print(x)"
   ]
  },
  {
   "cell_type": "markdown",
   "metadata": {},
   "source": [
    "### Что может делать юзер:\n",
    "    Вписывать расписание для одного студента\n",
    "    Вписывать расписание для группы"
   ]
  },
  {
   "cell_type": "markdown",
   "metadata": {},
   "source": [
    "### Переменные (вводятся юзером):\n",
    "    teacher_name, batch_name, class_name, building_address, classroom_num, student_name, date_time"
   ]
  },
  {
   "cell_type": "code",
   "execution_count": 7,
   "metadata": {
    "collapsed": true
   },
   "outputs": [],
   "source": [
    "def insert(mycursor, mydb, teacher_name, batch_name, class_name, building_address, classroom_num, student_name, date_time, email):\n",
    "    \n",
    "    '''\n",
    "    Вставляем в таблицы, где нет повторов и ссылок.\n",
    "    '''\n",
    "    insert_without_dupl = \"INSERT INTO %s (%s) SELECT * FROM (SELECT '%s') AS tmp \\\n",
    "                            WHERE NOT EXISTS (SELECT %s FROM %s WHERE %s = '%s')\"\n",
    "    sql = insert_without_dupl % ('BATCHES', 'Name', batch_name, 'Name',\n",
    "                                 'BATCHES', 'Name', batch_name)\n",
    "    mycursor.execute(sql)\n",
    "    sql = insert_without_dupl % ('CLASSES', 'Name', class_name, 'Name',\n",
    "                                 'CLASSES', 'Name', class_name)\n",
    "    mycursor.execute(sql)\n",
    "    sql = insert_without_dupl % ('BUILDINGS', 'Address', building_address,\n",
    "                                 'Address', 'BUILDINGS', 'Address', building_address)\n",
    "    mycursor.execute(sql)\n",
    "    \n",
    "    '''\n",
    "    Вставляем в таблицу, где есть повторы и ссылки (имена и номера аудиторий (в двух корпусах есть аудитория 504) могут повторяться).\n",
    "    '''    \n",
    "    sql = \"INSERT CLASSROOMS (Number, Address) \\\n",
    "            SELECT %s, (SELECT id from BUILDINGS WHERE Address = '%s') \\\n",
    "            WHERE NOT EXISTS \\\n",
    "                (SELECT Number FROM CLASSROOMS WHERE CLASSROOMS.Number = %s \\\n",
    "                    AND CLASSROOMS.Address = (SELECT id from BUILDINGS WHERE Address = '%s'))\" % (classroom_num, building_address,\n",
    "                                                                                                  classroom_num, building_address)\n",
    "    mycursor.execute(sql)\n",
    "    \n",
    "    sql = \"INSERT INTO STUDENTS (Name, Batch, Email) \\\n",
    "            SELECT * FROM (SELECT '%s', (SELECT id from BATCHES WHERE Name = '%s'), '%s') AS tmp \\\n",
    "            WHERE NOT EXISTS (SELECT (Email) FROM STUDENTS WHERE Email = '%s')\" % (student_name, batch_name,\n",
    "                                                                                   email, email)\n",
    "    mycursor.execute(sql)\n",
    "\n",
    "    sql = \"INSERT INTO SCHEDULE (Date_Time, Teacher, Batch, Classroom, Building, Class, Student) \\\n",
    "            VALUES ('%s', '%s', (SELECT id from BATCHES WHERE Name = '%s'), %s, \\\n",
    "                    (SELECT id from BUILDINGS WHERE Address = '%s'), \\\n",
    "                    (SELECT id from CLASSES WHERE Name = '%s'), \\\n",
    "                    (SELECT id from STUDENTS WHERE Email = '%s' \\\n",
    "                    AND Batch = (SELECT id from BATCHES WHERE Name = '%s')))\" % (date_time, teacher_name,\n",
    "                                                                                 batch_name, classroom_num,\n",
    "\n",
    "                                                                                 building_address, class_name,\n",
    "                                                                                 email, batch_name)\n",
    "    mycursor.execute(sql)\n",
    "    mydb.commit()\n",
    "    print(\"Inserted.\")"
   ]
  },
  {
   "cell_type": "code",
   "execution_count": 8,
   "metadata": {
    "collapsed": true
   },
   "outputs": [],
   "source": [
    "teachers = ['Толдова Светлана Юрьевна', 'Нефедов Михаил Анатольевич',\n",
    "            'Золотухин Всеволод Валерьевич', 'Золотухин Всеволод Валерьевич',\n",
    "            'Клышинский Эдуард Станиславович', 'Литвинов Денис Владимирович', \n",
    "            'Иванов Иван Иванович']\n",
    "batches = ['БКЛ-152', 'БКЛ-152', 'БКЛ-152', 'БКЛ-153', 'БКЛ-153', 'БКЛ-153', 'БКЛ-153']\n",
    "building_address = ['Старая Басманная ул., д. 21/4', 'Кирпичная ул., д. 33',\n",
    "                    'Старая Басманная ул., д. 21/4', 'Старая Басманная ул., д. 21/4',\n",
    "                    'Старая Басманная ул., д. 21/4', 'Старая Басманная ул., д. 21/4', \n",
    "                    'Старая Басманная ул., д. 21/4']\n",
    "classrooms = [505, 505, 503, 502, 321, 505, 523]\n",
    "students = ['Пантелеева Ирина Максимовна', 'Пантелеева Ирина Максимовна',\n",
    "            'Пантелеева Ирина Максимовна', 'Глазунов Евгений Владимирович',\n",
    "            'Глазунов Евгений Владимирович', 'Глазунов Евгений Владимирович', \n",
    "            'Глазунов Евгений Владимирович']\n",
    "date_time = ['2018-02-11 09:00:00', '2018-02-11 10:30:00',\n",
    "             '2018-02-11 12:10:00', '2018-02-11 09:00:00',\n",
    "             '2018-02-11 10:30:00', '2018-11-19 14:10:00', \n",
    "             '2018-11-19 12:10:00']\n",
    "classes = ['Компьютерная лингвистика и информационные технологии',\n",
    "           'Компьютерная лингвистика и информационные технологии', 'Философия',\n",
    "           'Философия', 'Базы данных', 'Программирование', 'Программирование']\n",
    "emails = ['impanteleyeva@gmail.com', 'impanteleyeva@gmail.com', \n",
    "          'impanteleyeva@gmail.com', 'glaz.dikobraz@gmail.com', \n",
    "          'evgeniy_glaz@gmail.com', 'glaz.dikobraz@gmail.com', \n",
    "          'glaz.dikobraz@gmail.com']"
   ]
  },
  {
   "cell_type": "code",
   "execution_count": 9,
   "metadata": {},
   "outputs": [
    {
     "name": "stdout",
     "output_type": "stream",
     "text": [
      "---\n",
      "Пантелеева Ирина Максимовна \n",
      " Компьютерная лингвистика и информационные технологии \n",
      " Толдова Светлана Юрьевна \n",
      " БКЛ-152 \n",
      " Старая Басманная ул., д. 21/4 \n",
      " 505 \n",
      " 2018-02-11 09:00:00 \n",
      " impanteleyeva@gmail.com \n",
      "\n",
      "Inserted.\n",
      "---\n",
      "Пантелеева Ирина Максимовна \n",
      " Компьютерная лингвистика и информационные технологии \n",
      " Нефедов Михаил Анатольевич \n",
      " БКЛ-152 \n",
      " Кирпичная ул., д. 33 \n",
      " 505 \n",
      " 2018-02-11 10:30:00 \n",
      " impanteleyeva@gmail.com \n",
      "\n",
      "Inserted.\n",
      "---\n",
      "Пантелеева Ирина Максимовна \n",
      " Философия \n",
      " Золотухин Всеволод Валерьевич \n",
      " БКЛ-152 \n",
      " Старая Басманная ул., д. 21/4 \n",
      " 503 \n",
      " 2018-02-11 12:10:00 \n",
      " impanteleyeva@gmail.com \n",
      "\n",
      "Inserted.\n",
      "---\n",
      "Глазунов Евгений Владимирович \n",
      " Философия \n",
      " Золотухин Всеволод Валерьевич \n",
      " БКЛ-153 \n",
      " Старая Басманная ул., д. 21/4 \n",
      " 502 \n",
      " 2018-02-11 09:00:00 \n",
      " glaz.dikobraz@gmail.com \n",
      "\n",
      "Inserted.\n",
      "---\n",
      "Глазунов Евгений Владимирович \n",
      " Базы данных \n",
      " Клышинский Эдуард Станиславович \n",
      " БКЛ-153 \n",
      " Старая Басманная ул., д. 21/4 \n",
      " 321 \n",
      " 2018-02-11 10:30:00 \n",
      " evgeniy_glaz@gmail.com \n",
      "\n",
      "Inserted.\n",
      "---\n",
      "Глазунов Евгений Владимирович \n",
      " Программирование \n",
      " Литвинов Денис Владимирович \n",
      " БКЛ-153 \n",
      " Старая Басманная ул., д. 21/4 \n",
      " 505 \n",
      " 2018-11-19 14:10:00 \n",
      " glaz.dikobraz@gmail.com \n",
      "\n",
      "Inserted.\n"
     ]
    }
   ],
   "source": [
    "for x in range(6):\n",
    "    print('---')\n",
    "    print(students[x], '\\n', classes[x], '\\n', teachers[x], '\\n', batches[x],\n",
    "          '\\n', building_address[x], '\\n', classrooms[x], '\\n',\n",
    "          date_time[x], '\\n', emails[x], '\\n')\n",
    "    insert(mycursor, mydb,\n",
    "           teacher_name=teachers[x],\n",
    "           batch_name=batches[x],\n",
    "           class_name=classes[x],\n",
    "           building_address=building_address[x],\n",
    "           classroom_num=classrooms[x],\n",
    "           student_name=students[x],\n",
    "           date_time=date_time[x],\n",
    "           email=emails[x])"
   ]
  },
  {
   "cell_type": "markdown",
   "metadata": {},
   "source": [
    "Посмотрим как всё записалось:"
   ]
  },
  {
   "cell_type": "code",
   "execution_count": 10,
   "metadata": {},
   "outputs": [
    {
     "name": "stdout",
     "output_type": "stream",
     "text": [
      "---\n",
      "Table: BATCHES\n",
      "(1, 'БКЛ-152')\n",
      "(2, 'БКЛ-153')\n",
      "---\n",
      "Table: CLASSES\n",
      "(1, 'Компьютерная лингвистика и информационные технологии')\n",
      "(2, 'Философия')\n",
      "(3, 'Базы данных')\n",
      "(4, 'Программирование')\n",
      "---\n",
      "Table: BUILDINGS\n",
      "(1, 'Старая Басманная ул., д. 21/4')\n",
      "(2, 'Кирпичная ул., д. 33')\n",
      "---\n",
      "Table: CLASSROOMS\n",
      "(1, 505, 1)\n",
      "(2, 505, 2)\n",
      "(3, 503, 1)\n",
      "(4, 502, 1)\n",
      "(5, 321, 1)\n",
      "---\n",
      "Table: STUDENTS\n",
      "(1, 'Пантелеева Ирина Максимовна', 1, 'impanteleyeva@gmail.com')\n",
      "(2, 'Глазунов Евгений Владимирович', 2, 'glaz.dikobraz@gmail.com')\n",
      "(3, 'Глазунов Евгений Владимирович', 2, 'evgeniy_glaz@gmail.com')\n",
      "---\n",
      "Table: SCHEDULE\n",
      "(1, datetime.datetime(2018, 2, 11, 9, 0), 'Толдова Светлана Юрьевна', 1, 505, 1, 1, 1)\n",
      "(2, datetime.datetime(2018, 2, 11, 10, 30), 'Нефедов Михаил Анатольевич', 1, 505, 2, 1, 1)\n",
      "(3, datetime.datetime(2018, 2, 11, 12, 10), 'Золотухин Всеволод Валерьевич', 1, 503, 1, 2, 1)\n",
      "(4, datetime.datetime(2018, 2, 11, 9, 0), 'Золотухин Всеволод Валерьевич', 2, 502, 1, 2, 2)\n",
      "(5, datetime.datetime(2018, 2, 11, 10, 30), 'Клышинский Эдуард Станиславович', 2, 321, 1, 3, 3)\n",
      "(6, datetime.datetime(2018, 11, 19, 14, 10), 'Литвинов Денис Владимирович', 2, 505, 1, 4, 2)\n"
     ]
    }
   ],
   "source": [
    "tables = ['BATCHES', 'CLASSES', 'BUILDINGS', 'CLASSROOMS', 'STUDENTS', 'SCHEDULE']\n",
    "for table in tables:\n",
    "    mycursor.execute(\"SELECT * FROM %s\" % table)\n",
    "    myresult = mycursor.fetchall()\n",
    "    print('---')\n",
    "    print('Table:', table)\n",
    "    for x in myresult:\n",
    "        print(x)"
   ]
  },
  {
   "cell_type": "markdown",
   "metadata": {},
   "source": [
    "### Запросы\n",
    "    Задание: Вы должны показать владение операторами SELECT и прочими, показав что вы умеете делать JOIN, или искать пересечение таблиц в WHERE, или пользоваться вложенными SELECT.\n",
    "    \n",
    "    1) Показать расписание определённого студента\n",
    "    2) Показать загруженность аудитории на определённый день\n",
    "    3) Вывод всех предметов, корпусов, групп, кабинетов (для поиска - проще будет юзеру)\n",
    "    4) Показать какие предметы идут в данную минуту\n",
    "    5) Показать время, когда будет идти тот или иной предмет"
   ]
  },
  {
   "cell_type": "markdown",
   "metadata": {},
   "source": [
    "#### 1) Показать расписание определённого студента"
   ]
  },
  {
   "cell_type": "code",
   "execution_count": 11,
   "metadata": {
    "collapsed": true
   },
   "outputs": [],
   "source": [
    "def schedule_of_student(email, mycursor):\n",
    "    '''\n",
    "    На вход: 'impanteleyeva@gmail.com'\n",
    "    Возвращает: время, преподавателя, номер кабинета, предмет, группу \n",
    "    '''\n",
    "    sql = \"SELECT SCHEDULE.Date_Time, SCHEDULE.Teacher, \\\n",
    "                SCHEDULE.Classroom, BUILDINGS.Address, \\\n",
    "                CLASSES.Name, BATCHES.Name FROM SCHEDULE \\\n",
    "            JOIN BUILDINGS ON SCHEDULE.Building = BUILDINGS.id \\\n",
    "            JOIN CLASSES ON SCHEDULE.Class = CLASSES.id \\\n",
    "            JOIN BATCHES ON SCHEDULE.Batch = BATCHES.id \\\n",
    "            JOIN STUDENTS ON SCHEDULE.Student = STUDENTS.id \\\n",
    "            WHERE STUDENTS.Email = '%s'\" % (email)\n",
    "    mycursor.execute(sql)\n",
    "    student = mycursor.fetchall()\n",
    "    return student"
   ]
  },
  {
   "cell_type": "code",
   "execution_count": 12,
   "metadata": {
    "collapsed": true
   },
   "outputs": [],
   "source": [
    "student = schedule_of_student('impanteleyeva@gmail.com', mycursor)"
   ]
  },
  {
   "cell_type": "code",
   "execution_count": 13,
   "metadata": {},
   "outputs": [
    {
     "data": {
      "text/plain": [
       "[(datetime.datetime(2018, 2, 11, 9, 0),\n",
       "  'Толдова Светлана Юрьевна',\n",
       "  505,\n",
       "  'Старая Басманная ул., д. 21/4',\n",
       "  'Компьютерная лингвистика и информационные технологии',\n",
       "  'БКЛ-152'),\n",
       " (datetime.datetime(2018, 2, 11, 10, 30),\n",
       "  'Нефедов Михаил Анатольевич',\n",
       "  505,\n",
       "  'Кирпичная ул., д. 33',\n",
       "  'Компьютерная лингвистика и информационные технологии',\n",
       "  'БКЛ-152'),\n",
       " (datetime.datetime(2018, 2, 11, 12, 10),\n",
       "  'Золотухин Всеволод Валерьевич',\n",
       "  503,\n",
       "  'Старая Басманная ул., д. 21/4',\n",
       "  'Философия',\n",
       "  'БКЛ-152')]"
      ]
     },
     "execution_count": 13,
     "metadata": {},
     "output_type": "execute_result"
    }
   ],
   "source": [
    "student"
   ]
  },
  {
   "cell_type": "markdown",
   "metadata": {},
   "source": [
    "#### 2) Показать загруженность аудитории на определённый день"
   ]
  },
  {
   "cell_type": "code",
   "execution_count": 14,
   "metadata": {
    "collapsed": true
   },
   "outputs": [],
   "source": [
    "def classroom_load(classroom_num, day, building_address, mycursor):\n",
    "    '''\n",
    "    На вход: 505, '2018-02-11', 'Старая Басманная ул., д. 21/4'\n",
    "    Возвращает: время (без дня), преподаватель\n",
    "    '''\n",
    "    sql = \"SELECT EXTRACT(HOUR FROM SCHEDULE.Date_Time), \\\n",
    "            EXTRACT(MINUTE FROM SCHEDULE.Date_Time), \\\n",
    "            SCHEDULE.Teacher FROM SCHEDULE \\\n",
    "                JOIN BUILDINGS ON SCHEDULE.Building = BUILDINGS.id \\\n",
    "                WHERE BUILDINGS.Address = '%s' \\\n",
    "                    AND SCHEDULE.Classroom = %s \\\n",
    "                    AND MONTH(SCHEDULE.Date_Time) = MONTH('%s') \\\n",
    "                    AND DAY(SCHEDULE.Date_Time) = DAY('%s') \\\n",
    "                    AND YEAR(SCHEDULE.Date_Time) = YEAR('%s')\" % (building_address, classroom_num,\n",
    "                                                                  day, day, day)\n",
    "    mycursor.execute(sql)\n",
    "    load = mycursor.fetchall()\n",
    "    return load"
   ]
  },
  {
   "cell_type": "code",
   "execution_count": 15,
   "metadata": {},
   "outputs": [
    {
     "data": {
      "text/plain": [
       "[(9, 0, 'Толдова Светлана Юрьевна')]"
      ]
     },
     "execution_count": 15,
     "metadata": {},
     "output_type": "execute_result"
    }
   ],
   "source": [
    "classroom_load(505, '2018-02-11', 'Старая Басманная ул., д. 21/4', mycursor)"
   ]
  },
  {
   "cell_type": "markdown",
   "metadata": {},
   "source": [
    "#### 3) Вывод всех предметов, корпусов, групп, кабинетов (для поиска - проще будет юзеру)"
   ]
  },
  {
   "cell_type": "code",
   "execution_count": 16,
   "metadata": {
    "collapsed": true
   },
   "outputs": [],
   "source": [
    "def get_info(mycursor, classes=False, buildings=False, batches=False, classrooms=False):\n",
    "    if classes:\n",
    "        sql = \"SELECT Name FROM CLASSES\"\n",
    "        mycursor.execute(sql)\n",
    "        return mycursor.fetchall()\n",
    "    if buildings:\n",
    "        sql = \"SELECT Address FROM BUILDINGS\"\n",
    "        mycursor.execute(sql)\n",
    "        return mycursor.fetchall()\n",
    "    if batches:\n",
    "        sql = \"SELECT Name FROM BATCHES\"\n",
    "        mycursor.execute(sql)\n",
    "        return mycursor.fetchall()\n",
    "    if classrooms:\n",
    "        sql = \"SELECT CLASSROOMS.Number, BUILDINGS.Address \\\n",
    "                FROM BUILDINGS JOIN CLASSROOMS ON BUILDINGS.id = CLASSROOMS.Address\"\n",
    "        mycursor.execute(sql)\n",
    "        return mycursor.fetchall()\n",
    "    else:\n",
    "        return None"
   ]
  },
  {
   "cell_type": "code",
   "execution_count": 17,
   "metadata": {},
   "outputs": [
    {
     "data": {
      "text/plain": [
       "[('Компьютерная лингвистика и информационные технологии',),\n",
       " ('Философия',),\n",
       " ('Базы данных',),\n",
       " ('Программирование',)]"
      ]
     },
     "execution_count": 17,
     "metadata": {},
     "output_type": "execute_result"
    }
   ],
   "source": [
    "get_info(mycursor, classes=True)"
   ]
  },
  {
   "cell_type": "code",
   "execution_count": 18,
   "metadata": {},
   "outputs": [
    {
     "data": {
      "text/plain": [
       "[('Старая Басманная ул., д. 21/4',), ('Кирпичная ул., д. 33',)]"
      ]
     },
     "execution_count": 18,
     "metadata": {},
     "output_type": "execute_result"
    }
   ],
   "source": [
    "get_info(mycursor, buildings=True)"
   ]
  },
  {
   "cell_type": "code",
   "execution_count": 19,
   "metadata": {},
   "outputs": [
    {
     "data": {
      "text/plain": [
       "[('БКЛ-152',), ('БКЛ-153',)]"
      ]
     },
     "execution_count": 19,
     "metadata": {},
     "output_type": "execute_result"
    }
   ],
   "source": [
    "get_info(mycursor, batches=True)"
   ]
  },
  {
   "cell_type": "code",
   "execution_count": 20,
   "metadata": {},
   "outputs": [
    {
     "data": {
      "text/plain": [
       "[(505, 'Старая Басманная ул., д. 21/4'),\n",
       " (505, 'Кирпичная ул., д. 33'),\n",
       " (503, 'Старая Басманная ул., д. 21/4'),\n",
       " (502, 'Старая Басманная ул., д. 21/4'),\n",
       " (321, 'Старая Басманная ул., д. 21/4')]"
      ]
     },
     "execution_count": 20,
     "metadata": {},
     "output_type": "execute_result"
    }
   ],
   "source": [
    "get_info(mycursor, classrooms=True)"
   ]
  },
  {
   "cell_type": "markdown",
   "metadata": {},
   "source": [
    "#### 4) Показать какие предметы идут в данную минуту"
   ]
  },
  {
   "cell_type": "code",
   "execution_count": 21,
   "metadata": {
    "collapsed": true
   },
   "outputs": [],
   "source": [
    "def right_now(mycursor):\n",
    "    '''\n",
    "    Возвращает: предметы\n",
    "    '''\n",
    "    sql = \"SELECT SCHEDULE.Date_Time, CLASSES.Name \\\n",
    "            FROM CLASSES JOIN SCHEDULE ON CLASSES.id = SCHEDULE.Class \\\n",
    "            WHERE (SELECT NOW()>=SCHEDULE.Date_Time) \\\n",
    "            AND (SELECT NOW()<=DATE_ADD(SCHEDULE.Date_Time, INTERVAL '01:30' HOUR_MINUTE))\"\n",
    "    mycursor.execute(sql)\n",
    "    return mycursor.fetchall()"
   ]
  },
  {
   "cell_type": "code",
   "execution_count": 22,
   "metadata": {},
   "outputs": [
    {
     "data": {
      "text/plain": [
       "[]"
      ]
     },
     "execution_count": 22,
     "metadata": {},
     "output_type": "execute_result"
    }
   ],
   "source": [
    "right_now(mycursor)"
   ]
  },
  {
   "cell_type": "markdown",
   "metadata": {},
   "source": [
    "#### 5) Показать время, когда будет идти тот или иной предмет"
   ]
  },
  {
   "cell_type": "code",
   "execution_count": 23,
   "metadata": {
    "collapsed": true
   },
   "outputs": [],
   "source": [
    "def find_class(class_name, mycursor):\n",
    "    '''\n",
    "    Возвращает: предметы\n",
    "    '''\n",
    "    sql = \"SELECT SCHEDULE.Date_Time, CLASSES.Name \\\n",
    "            FROM SCHEDULE JOIN CLASSES \\\n",
    "            ON SCHEDULE.Class = CLASSES.id WHERE CLASSES.Name = '%s'\" % class_name\n",
    "    mycursor.execute(sql)\n",
    "    return mycursor.fetchall()"
   ]
  },
  {
   "cell_type": "code",
   "execution_count": 24,
   "metadata": {},
   "outputs": [
    {
     "data": {
      "text/plain": [
       "[(datetime.datetime(2018, 11, 19, 14, 10), 'Программирование')]"
      ]
     },
     "execution_count": 24,
     "metadata": {},
     "output_type": "execute_result"
    }
   ],
   "source": [
    "find_class('Программирование', mycursor)"
   ]
  },
  {
   "cell_type": "markdown",
   "metadata": {},
   "source": [
    "### DELETE\n",
    "    Пользователь вводит данные и они удаляются из базы данных."
   ]
  },
  {
   "cell_type": "code",
   "execution_count": 25,
   "metadata": {
    "collapsed": true
   },
   "outputs": [],
   "source": [
    "def delete_batch(batch_name):\n",
    "    '''\n",
    "    Удаляет группу\n",
    "    '''\n",
    "    sql = \"DELETE FROM STUDENTS WHERE Batch = (SELECT id FROM BATCHES WHERE BATCHES.Name = '%s')\" % batch_name\n",
    "    mycursor.execute(sql)\n",
    "    sql = \"DELETE FROM SCHEDULE WHERE Batch = (SELECT id FROM BATCHES WHERE BATCHES.Name = '%s')\" % batch_name\n",
    "    mycursor.execute(sql)\n",
    "    sql = \"DELETE FROM BATCHES WHERE Name = '%s'\" % batch_name\n",
    "    mycursor.execute(sql)\n",
    "    mydb.commit()"
   ]
  },
  {
   "cell_type": "code",
   "execution_count": 26,
   "metadata": {
    "collapsed": true
   },
   "outputs": [],
   "source": [
    "delete_batch('БКЛ-152')"
   ]
  },
  {
   "cell_type": "code",
   "execution_count": 27,
   "metadata": {
    "collapsed": true
   },
   "outputs": [],
   "source": [
    "def delete_classes(class_name):\n",
    "    '''\n",
    "    Удаляет предмет\n",
    "    '''\n",
    "    sql = \"DELETE FROM SCHEDULE WHERE Class = (SELECT id FROM CLASSES WHERE CLASSES.Name = '%s')\" % class_name\n",
    "    mycursor.execute(sql)\n",
    "    sql = \"DELETE FROM CLASSES WHERE Name = '%s'\" % class_name\n",
    "    mycursor.execute(sql)\n",
    "    mydb.commit()"
   ]
  },
  {
   "cell_type": "code",
   "execution_count": 28,
   "metadata": {
    "collapsed": true
   },
   "outputs": [],
   "source": [
    "delete_classes('Философия')"
   ]
  },
  {
   "cell_type": "code",
   "execution_count": 29,
   "metadata": {
    "collapsed": true
   },
   "outputs": [],
   "source": [
    "def delete_buildings(building):\n",
    "    '''\n",
    "    Удаляет корпус\n",
    "    '''\n",
    "    sql = \"DELETE FROM SCHEDULE WHERE Building = \\\n",
    "            (SELECT id FROM BUILDINGS WHERE BUILDINGS.Address = '%s')\" % building\n",
    "    mycursor.execute(sql)\n",
    "    sql = \"DELETE FROM CLASSROOMS WHERE Address = \\\n",
    "            (SELECT id FROM BUILDINGS WHERE BUILDINGS.Address = '%s')\" % building\n",
    "    mycursor.execute(sql)\n",
    "    sql = \"DELETE FROM BUILDINGS WHERE Address = '%s'\" % building\n",
    "    mycursor.execute(sql)\n",
    "    mydb.commit()"
   ]
  },
  {
   "cell_type": "code",
   "execution_count": 30,
   "metadata": {
    "collapsed": true
   },
   "outputs": [],
   "source": [
    "delete_buildings('Кирпичная ул., д. 33')"
   ]
  },
  {
   "cell_type": "code",
   "execution_count": 31,
   "metadata": {
    "collapsed": true
   },
   "outputs": [],
   "source": [
    "def delete_classrooms_buildings(classroom, building):\n",
    "    '''\n",
    "    Удаляет кабинет (учитывая в каком здании он находится)\n",
    "    '''\n",
    "    sql = \"DELETE FROM SCHEDULE WHERE Building = \\\n",
    "            (SELECT id FROM BUILDINGS WHERE BUILDINGS.Address = '%s') \\\n",
    "            AND Classroom = %s\" % (building, classroom)\n",
    "    mycursor.execute(sql)\n",
    "    sql = \"DELETE FROM CLASSROOMS WHERE Address = \\\n",
    "            (SELECT id FROM BUILDINGS WHERE BUILDINGS.Address = '%s') \\\n",
    "            AND Number = %s\" % (building, classroom)\n",
    "    mycursor.execute(sql)\n",
    "    mydb.commit()"
   ]
  },
  {
   "cell_type": "code",
   "execution_count": 32,
   "metadata": {
    "collapsed": true
   },
   "outputs": [],
   "source": [
    "delete_classrooms_buildings(505, 'Кирпичная ул., д. 33')"
   ]
  },
  {
   "cell_type": "code",
   "execution_count": 33,
   "metadata": {
    "collapsed": true
   },
   "outputs": [],
   "source": [
    "def delete_student(email):\n",
    "    '''\n",
    "    Удаляет студента\n",
    "    '''\n",
    "    sql = \"DELETE FROM SCHEDULE WHERE Student = (SELECT id FROM STUDENTS WHERE STUDENTS.Email = '%s')\" % (email)\n",
    "    mycursor.execute(sql)\n",
    "    sql = \"DELETE FROM STUDENTS WHERE Email = '%s'\" % (email)\n",
    "    mycursor.execute(sql)\n",
    "    mydb.commit()"
   ]
  },
  {
   "cell_type": "code",
   "execution_count": 34,
   "metadata": {
    "collapsed": true
   },
   "outputs": [],
   "source": [
    "delete_student('evgeniy_glaz@gmail.com')"
   ]
  },
  {
   "cell_type": "code",
   "execution_count": 35,
   "metadata": {
    "collapsed": true
   },
   "outputs": [],
   "source": [
    "def delete_student_class(email, class_name, time, teacher, classroom, building):\n",
    "    '''\n",
    "    Удаляет определённый предмет в расписании\n",
    "    '''\n",
    "    sql = \"DELETE FROM SCHEDULE WHERE Student = \\\n",
    "            (SELECT id FROM STUDENTS WHERE STUDENTS.Email = '%s') \\\n",
    "            AND Class = (SELECT id FROM CLASSES WHERE CLASSES.Name = '%s') \\\n",
    "            AND Date_time = '%s' AND Teacher = '%s' \\\n",
    "            AND Classroom = %s \\\n",
    "            AND Building = (SELECT id FROM BUILDINGS \\\n",
    "            WHERE BUILDINGS.Address = '%s')\" % (email, class_name, time,\n",
    "                                                teacher, classroom, building)\n",
    "    mycursor.execute(sql)\n",
    "    mydb.commit()"
   ]
  },
  {
   "cell_type": "code",
   "execution_count": 36,
   "metadata": {
    "collapsed": true
   },
   "outputs": [],
   "source": [
    "delete_student_class('impanteleyeva@gmail.com', 'Компьютерная лингвистика и информационные технологии', '2018-02-11 09:00:00', 'Толдова Светлана Юрьевна', 505, 'Старая Басманная ул., д. 21/4')"
   ]
  },
  {
   "cell_type": "markdown",
   "metadata": {},
   "source": [
    "### UPDATE\n",
    "    Изменить данные"
   ]
  },
  {
   "cell_type": "code",
   "execution_count": 37,
   "metadata": {
    "collapsed": true
   },
   "outputs": [],
   "source": [
    "def update_student_class(Nemail, Nclass_name, Ntime, Nteacher, Nclassroom, Nbuilding,\n",
    "                         email, class_name, time, teacher, classroom, building):\n",
    "    '''\n",
    "    Удаляет определённый предмет в расписании\n",
    "    '''\n",
    "    sql = \"UPDATE SCHEDULE \\\n",
    "            SET \\\n",
    "                Student = (SELECT id FROM STUDENTS WHERE STUDENTS.Email = '%s'), \\\n",
    "                Class = (SELECT id FROM CLASSES WHERE CLASSES.Name = '%s'), \\\n",
    "                Date_time = '%s', \\\n",
    "                Teacher = '%s', \\\n",
    "                Classroom = %s, \\\n",
    "                Building = (SELECT id FROM BUILDINGS WHERE BUILDINGS.Address = '%s') \\\n",
    "            WHERE \\\n",
    "                Student = (SELECT id FROM STUDENTS WHERE STUDENTS.Email = '%s') AND \\\n",
    "                Class = (SELECT id FROM CLASSES WHERE CLASSES.Name = '%s') AND \\\n",
    "                Date_time = '%s' AND \\\n",
    "                Teacher = '%s' AND \\\n",
    "                Classroom = %s AND \\\n",
    "                Building = (SELECT id FROM BUILDINGS WHERE BUILDINGS.Address = '%s')\" % (Nemail, Nclass_name,\n",
    "                                                                                         Ntime, Nteacher, Nclassroom,\n",
    "                                                                                         Nbuilding, email, class_name,\n",
    "                                                                                         time, teacher, classroom, building)\n",
    "    mycursor.execute(sql)\n",
    "    mydb.commit()"
   ]
  },
  {
   "cell_type": "code",
   "execution_count": 38,
   "metadata": {
    "collapsed": true
   },
   "outputs": [],
   "source": [
    "update_student_class('glaz.dikobraz@gmail.com', 'Компьютерная лингвистика и информационные технологии',\n",
    "                     '2018-02-11 09:00:00', 'Толдова Светлана Юрьевна', 505,\n",
    "                     'Старая Басманная ул., д. 21/4', 'impanteleyeva@gmail.com',\n",
    "                     'Компьютерная лингвистика и информационные технологии', '2018-02-11 09:00:00',\n",
    "                     'Толдова Светлана Юрьевна', 505, 'Старая Басманная ул., д. 21/4')"
   ]
  },
  {
   "cell_type": "code",
   "execution_count": 39,
   "metadata": {},
   "outputs": [
    {
     "name": "stdout",
     "output_type": "stream",
     "text": [
      "---\n",
      "Table: BATCHES\n",
      "(2, 'БКЛ-153')\n",
      "---\n",
      "Table: CLASSES\n",
      "(1, 'Компьютерная лингвистика и информационные технологии')\n",
      "(3, 'Базы данных')\n",
      "(4, 'Программирование')\n",
      "---\n",
      "Table: BUILDINGS\n",
      "(1, 'Старая Басманная ул., д. 21/4')\n",
      "---\n",
      "Table: CLASSROOMS\n",
      "(1, 505, 1)\n",
      "(3, 503, 1)\n",
      "(4, 502, 1)\n",
      "(5, 321, 1)\n",
      "---\n",
      "Table: STUDENTS\n",
      "(2, 'Глазунов Евгений Владимирович', 2, 'glaz.dikobraz@gmail.com')\n",
      "---\n",
      "Table: SCHEDULE\n",
      "(6, datetime.datetime(2018, 11, 19, 14, 10), 'Литвинов Денис Владимирович', 2, 505, 1, 4, 2)\n"
     ]
    }
   ],
   "source": [
    "for table in tables:\n",
    "    mycursor.execute(\"SELECT * FROM %s\" % table)\n",
    "    myresult = mycursor.fetchall()\n",
    "    print('---')\n",
    "    print('Table:', table)\n",
    "    for x in myresult:\n",
    "        print(x)"
   ]
  }
 ],
 "metadata": {
  "kernelspec": {
   "display_name": "Python 3",
   "language": "python",
   "name": "python3"
  },
  "language_info": {
   "codemirror_mode": {
    "name": "ipython",
    "version": 3
   },
   "file_extension": ".py",
   "mimetype": "text/x-python",
   "name": "python",
   "nbconvert_exporter": "python",
   "pygments_lexer": "ipython3",
   "version": "3.6.3"
  }
 },
 "nbformat": 4,
 "nbformat_minor": 2
}
