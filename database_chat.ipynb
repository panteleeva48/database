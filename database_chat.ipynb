{
 "cells": [
  {
   "cell_type": "markdown",
   "metadata": {},
   "source": [
    "### Общее задание\n",
    "Необходимо написать программу, которая будет получать данные от пользователя, вносить их в базу, осуществлять поиск по базе по запросу пользователя.\n",
    "\n",
    "Хранение каких-либо констант и справочников в коде ЗАПРЕЩЕНО!"
   ]
  },
  {
   "cell_type": "markdown",
   "metadata": {},
   "source": [
    "### Задание\n",
    "У нас есть чат. Необходимо хранить профили пользователей, сообщения в общий чат и сообщения в личку (от кого кому)."
   ]
  },
  {
   "cell_type": "code",
   "execution_count": 2,
   "metadata": {
    "collapsed": true
   },
   "outputs": [],
   "source": [
    "import os\n",
    "import sqlite3\n",
    "import choice"
   ]
  },
  {
   "cell_type": "code",
   "execution_count": 3,
   "metadata": {
    "collapsed": true
   },
   "outputs": [],
   "source": [
    "def connect(dbfile):\n",
    "    conn = sqlite3.connect(dbfile)\n",
    "    c = conn.cursor()\n",
    "    return c, conn"
   ]
  },
  {
   "cell_type": "code",
   "execution_count": 4,
   "metadata": {
    "collapsed": true
   },
   "outputs": [],
   "source": [
    "def create_db():\n",
    "    dbfile = input('Type the name of the database to create (without a filename extension): ') + '.db'\n",
    "    has_db = os.path.exists(dbfile)\n",
    "    if has_db: \n",
    "        print('The database with this name has already existed.')\n",
    "        return create_db()\n",
    "    c, conn = connect(dbfile)\n",
    "    print('The database \"{}\" is created successfully.'.format(dbfile))\n",
    "    c.close()"
   ]
  },
  {
   "cell_type": "markdown",
   "metadata": {},
   "source": [
    "# Создаем бд"
   ]
  },
  {
   "cell_type": "code",
   "execution_count": 5,
   "metadata": {},
   "outputs": [
    {
     "name": "stdout",
     "output_type": "stream",
     "text": [
      "Type the name of the database to create (without a filename extension): dialogs\n",
      "The database \"dialogs.db\" is created successfully.\n"
     ]
    }
   ],
   "source": [
    "create_db()"
   ]
  },
  {
   "cell_type": "code",
   "execution_count": 6,
   "metadata": {
    "collapsed": true
   },
   "outputs": [],
   "source": [
    "def create_table():\n",
    "    dbfile = input('Type the name of the database where you want to create a table\\\n",
    "    (without filename extension): ') + '.db'\n",
    "    if not os.path.isfile(dbfile):\n",
    "        print('This database does not exist. Try once again')\n",
    "        create_table()\n",
    "    else:\n",
    "        c, conn = connect(dbfile)\n",
    "        table_name = input('Type the name of the table to create: ').upper()\n",
    "        columns = input('Type the names of the columns and their types as in the EXAMPLE:\\\n",
    "        \\n\"name1 text, name2 text, name3 integer\"\\n') \n",
    "        c.execute('CREATE TABLE {} (generated_id INTEGER PRIMARY KEY, {})'.format(table_name, columns))\n",
    "        print('The table \"{}\" in the database \"{}\" is created successfully.'.format(table_name, dbfile))\n",
    "        conn.commit()\n",
    "        conn.close()"
   ]
  },
  {
   "cell_type": "markdown",
   "metadata": {},
   "source": [
    "# Создаём таблицы"
   ]
  },
  {
   "cell_type": "markdown",
   "metadata": {},
   "source": [
    "### TABLES:\n",
    "\n",
    "1) USERS: user text, url text\n",
    "\n",
    "2) GENERAL_CHAT: massege text, who integer, data datetime\n",
    "\n",
    "3) PERSONAL_CHAT: massege text, who integer, whom integer, data datetime"
   ]
  },
  {
   "cell_type": "code",
   "execution_count": 7,
   "metadata": {},
   "outputs": [
    {
     "name": "stdout",
     "output_type": "stream",
     "text": [
      "Type the name of the database where you want to create a table    (without filename extension): dialogs\n",
      "Type the name of the table to create: USERS\n",
      "Type the names of the columns and their types as in the EXAMPLE:        \n",
      "\"name1 text, name2 text, name3 integer\"\n",
      "user text, url text\n",
      "The table \"USERS\" in the database \"dialogs.db\" is created successfully.\n"
     ]
    }
   ],
   "source": [
    "create_table()"
   ]
  },
  {
   "cell_type": "code",
   "execution_count": 8,
   "metadata": {},
   "outputs": [
    {
     "name": "stdout",
     "output_type": "stream",
     "text": [
      "Type the name of the database where you want to create a table    (without filename extension): dialogs\n",
      "Type the name of the table to create: GENERAL_CHAT\n",
      "Type the names of the columns and their types as in the EXAMPLE:        \n",
      "\"name1 text, name2 text, name3 integer\"\n",
      "massege text, who integer, data datetime\n",
      "The table \"GENERAL_CHAT\" in the database \"dialogs.db\" is created successfully.\n"
     ]
    }
   ],
   "source": [
    "create_table()"
   ]
  },
  {
   "cell_type": "code",
   "execution_count": 36,
   "metadata": {},
   "outputs": [
    {
     "name": "stdout",
     "output_type": "stream",
     "text": [
      "Type the name of the database where you want to create a table    (without filename extension): dialogs\n",
      "Type the name of the table to create: PERSONAL_CHAT\n",
      "Type the names of the columns and their types as in the EXAMPLE:        \n",
      "\"name1 text, name2 text, name3 integer\"\n",
      "massege text, who integer, whom integer, data datetime\n",
      "The table \"PERSONAL_CHAT\" in the database \"dialogs.db\" is created successfully.\n"
     ]
    }
   ],
   "source": [
    "create_table()"
   ]
  },
  {
   "cell_type": "code",
   "execution_count": 10,
   "metadata": {
    "collapsed": true
   },
   "outputs": [],
   "source": [
    "def parsing(answer):\n",
    "    parsed_answer = []\n",
    "    for row in answer.split('; '):\n",
    "        parsed_answer.append(row.split(', '))\n",
    "    return parsed_answer"
   ]
  },
  {
   "cell_type": "code",
   "execution_count": 37,
   "metadata": {},
   "outputs": [],
   "source": [
    "def fill_table_USERS(dbfile):\n",
    "    c, conn = connect(dbfile)\n",
    "    info = input('Type the information as in the EXAMPLE:\\\n",
    "    \\n\"user1, url1; user2, url2\"\\n')\n",
    "    users = [user[0] for user in c.execute('''SELECT user FROM USERS''')]\n",
    "    urls = [url[0] for url in c.execute('''SELECT url FROM USERS''')]\n",
    "    parsed_info  = parsing(info)\n",
    "    \n",
    "    # условимся, что не может быть у юзеров одинаковые имена и url\n",
    "    exist = False\n",
    "    for row in parsed_info:\n",
    "        if row[0] in users or row[1] in urls:\n",
    "            exist = True\n",
    "\n",
    "    # пользователь мог ввести в запросе одинаковые имена и url\n",
    "    typed_users = [u[0] for u in parsed_info]\n",
    "    typed_urls = [r[1] for r in parsed_info]\n",
    "    if len(set(typed_users)) != len(typed_users):\n",
    "        exist = True\n",
    "    if len(set(typed_urls)) != len(typed_urls):\n",
    "        exist = True\n",
    "    if exist:\n",
    "        print('User or URL already exists in this database or you typed the same names! Try again.')\n",
    "        fill_table_USERS(dbfile)\n",
    "    else:\n",
    "        c.executemany('''INSERT INTO USERS (generated_id, user, url) VALUES (null, ?, ?)''', parsed_info)\n",
    "        conn.commit()\n",
    "        conn.close()\n",
    "        print('Information is filled successfully.')\n",
    "\n",
    "from datetime import datetime\n",
    "\n",
    "def fill_table_GENERAL_CHAT(dbfile):\n",
    "    c, conn = connect(dbfile)\n",
    "    info = input('Type the information as in the EXAMPLE:\\\n",
    "    \\n\"massege1, who1, date1; massege2, who2\"\\n')\n",
    "    parsed_info  = parsing(info)\n",
    "    for each in parsed_info:\n",
    "        each.append(datetime.now().strftime(\"%B %d, %Y %I:%M%p\"))\n",
    "    #print(parsed_info)\n",
    "    c.executemany('''INSERT INTO GENERAL_CHAT (generated_id, massege, who, data) VALUES (null, ?, ?, ?)''', parsed_info)\n",
    "    conn.commit()\n",
    "    conn.close()\n",
    "    print('Information is filled successfully.')\n",
    "\n",
    "def fill_table_PERSONAL_CHAT(dbfile):\n",
    "    c, conn = connect(dbfile)\n",
    "    info = input('Type the information as in the EXAMPLE:\\\n",
    "    \\n\"massege1, who1, whom1; massege2, who2, whom\"\\n')\n",
    "    parsed_info  = parsing(info)\n",
    "    for each in parsed_info:\n",
    "        each.append(datetime.now().strftime(\"%B %d, %Y %I:%M%p\"))\n",
    "    c.executemany('''INSERT INTO PERSONAL_CHAT (generated_id, massege, who, whom, data) VALUES (null, ?, ?, ?, ?)''', parsed_info)\n",
    "    conn.commit()\n",
    "    conn.close()\n",
    "    print('Information is filled successfully.')"
   ]
  },
  {
   "cell_type": "code",
   "execution_count": 38,
   "metadata": {
    "collapsed": true
   },
   "outputs": [],
   "source": [
    "def fill_table():\n",
    "    dbfile = input('Type the name of the database where you want to fill a table\\\n",
    "    (without filename extension): ') + '.db'\n",
    "    if not os.path.isfile(dbfile):\n",
    "        print('This database does not exist. Try once again')\n",
    "        fill_table()\n",
    "    c, conn = connect(dbfile)\n",
    "    c.execute(\"SELECT name FROM sqlite_master WHERE type='table';\")\n",
    "    tables = [table[0] for table in c.fetchall()]\n",
    "    tables_str = '\\n*'.join(tables)\n",
    "    table_to_fill = input('Type the name of the table which you want to fill (from the list):\\n*' + tables_str + '\\n').upper()\n",
    "    tables = ['USERS', 'GENERAL_CHAT', 'PERSONAL_CHAT']\n",
    "    ind = tables.index(table_to_fill.upper())\n",
    "    if ind == 0:\n",
    "        fill_table_USERS(dbfile)\n",
    "    elif ind == 1:\n",
    "        fill_table_GENERAL_CHAT(dbfile)\n",
    "    else:\n",
    "        fill_table_PERSONAL_CHAT(dbfile)"
   ]
  },
  {
   "cell_type": "markdown",
   "metadata": {},
   "source": [
    "# Заполняем таблицы"
   ]
  },
  {
   "cell_type": "code",
   "execution_count": 16,
   "metadata": {},
   "outputs": [
    {
     "name": "stdout",
     "output_type": "stream",
     "text": [
      "Type the name of the database where you want to fill a table    (without filename extension): dialogs\n",
      "Type the name of the table which you want to fill (from the list):\n",
      "*USERS\n",
      "*GENERAL_CHAT\n",
      "*PERSONAL_CHAT\n",
      "USERS\n",
      "Type the information as in the EXAMPLE:    \n",
      "\"user1, url1; user2, url2\"\n",
      "user1, url1; user2, url2; user3, url3; user4, url4\n",
      "Information is filled successfully.\n"
     ]
    }
   ],
   "source": [
    "fill_table()"
   ]
  },
  {
   "cell_type": "code",
   "execution_count": 34,
   "metadata": {},
   "outputs": [
    {
     "name": "stdout",
     "output_type": "stream",
     "text": [
      "Type the name of the database where you want to fill a table    (without filename extension): dialogs\n",
      "Type the name of the table which you want to fill (from the list):\n",
      "*USERS\n",
      "*GENERAL_CHAT\n",
      "*PERSONAL_CHAT\n",
      "GENERAL_CHAT\n",
      "Type the information as in the EXAMPLE:    \n",
      "\"massege1, who1, date1; massege2, who2\"\n",
      "massege1, user1; massege2, user1; massege3, user2\n",
      "Information is filled successfully.\n"
     ]
    }
   ],
   "source": [
    "fill_table()"
   ]
  },
  {
   "cell_type": "code",
   "execution_count": 39,
   "metadata": {},
   "outputs": [
    {
     "name": "stdout",
     "output_type": "stream",
     "text": [
      "Type the name of the database where you want to fill a table    (without filename extension): dialogs\n",
      "Type the name of the table which you want to fill (from the list):\n",
      "*USERS\n",
      "*GENERAL_CHAT\n",
      "*PERSONAL_CHAT\n",
      "PERSONAL_CHAT\n",
      "Type the information as in the EXAMPLE:    \n",
      "\"massege1, who1, whom1; massege2, who2, whom\"\n",
      "massege1, user1, user2; massege2, user1, user3; massege5, user2, user3; massege3, user2, user3;  massege4, user2, user3\n",
      "Information is filled successfully.\n"
     ]
    }
   ],
   "source": [
    "fill_table()"
   ]
  },
  {
   "cell_type": "markdown",
   "metadata": {},
   "source": [
    "### Что пользователь может искать:\n",
    "\n",
    "1) Количество уникальных пользователей в бд (и кто они)\n",
    "\n",
    "2) Кол-во пользователей, которые не общаются в общем чате (и кто они)\n",
    "\n",
    "3) Кол-во пользователей, который общаются только в общем чате (и кто они)\n",
    "\n",
    "4) Сортировать сообщения в общем чате по дате\n",
    "\n",
    "5) Кому что пишет отдельный пользователь (в личку)\n",
    "\n",
    "6) Диалог между двумя пользователями\n",
    "\n",
    "7) Сортировать по алфавиту всех пользователей"
   ]
  },
  {
   "cell_type": "code",
   "execution_count": 68,
   "metadata": {
    "collapsed": true
   },
   "outputs": [],
   "source": [
    "queries = ['Количество уникальных пользователей в бд (и кто они)',\n",
    "           'Кол-во пользователей, которые не общаются в общем чате (и кто они)',\n",
    "           'Кол-во пользователей, который общаются только в общем чате (и кто они)',\n",
    "           'Сортировать сообщения в общем чате по дате',\n",
    "           'Кому что пишет отдельный пользователь',\n",
    "           'Диалог между двумя пользователями',\n",
    "           'Сортировать по алфавиту всех пользователей']"
   ]
  },
  {
   "cell_type": "code",
   "execution_count": 69,
   "metadata": {
    "collapsed": true
   },
   "outputs": [],
   "source": [
    "def first(dbfile):\n",
    "    c, conn = connect(dbfile)\n",
    "    c.execute(\"SELECT COUNT(*) FROM (SELECT user FROM USERS) UNION SELECT user FROM USERS\")# первый элемент - кол-во\n",
    "    result = [user[0] for user in c.fetchall()]\n",
    "    print(result)"
   ]
  },
  {
   "cell_type": "code",
   "execution_count": 70,
   "metadata": {
    "collapsed": true
   },
   "outputs": [],
   "source": [
    "def second(dbfile):\n",
    "    c, conn = connect(dbfile)\n",
    "    c.execute(\"SELECT * FROM USERS WHERE NOT EXISTS (SELECT * FROM GENERAL_CHAT WHERE USERS.user = GENERAL_CHAT.who)\")\n",
    "    result = [user[1] for user in c.fetchall()]\n",
    "    print(result)\n",
    "    c, conn = connect(dbfile)\n",
    "    c.execute(\"SELECT COUNT(*) FROM (SELECT * FROM USERS WHERE NOT EXISTS (SELECT * FROM GENERAL_CHAT WHERE USERS.user = GENERAL_CHAT.who))\")\n",
    "    result = c.fetchall()[0][0]\n",
    "    print(result)"
   ]
  },
  {
   "cell_type": "code",
   "execution_count": 71,
   "metadata": {
    "collapsed": true
   },
   "outputs": [],
   "source": [
    "def third(dbfile):\n",
    "    c, conn = connect(dbfile)\n",
    "    c.execute(\"SELECT * FROM GENERAL_CHAT WHERE NOT EXISTS (SELECT * FROM PERSONAL_CHAT WHERE GENERAL_CHAT.who = PERSONAL_CHAT.who)\")\n",
    "    result = [user[1] for user in c.fetchall()]\n",
    "    print(result)\n",
    "    c, conn = connect(dbfile)\n",
    "    c.execute(\"SELECT COUNT(*) FROM (SELECT * FROM GENERAL_CHAT WHERE NOT EXISTS (SELECT * FROM PERSONAL_CHAT WHERE GENERAL_CHAT.who = PERSONAL_CHAT.who))\")\n",
    "    result = c.fetchall()[0][0]\n",
    "    print(result)"
   ]
  },
  {
   "cell_type": "code",
   "execution_count": 77,
   "metadata": {},
   "outputs": [],
   "source": [
    "def forth(dbfile):\n",
    "    c, conn = connect(dbfile)\n",
    "    c.execute(\"SELECT * FROM GENERAl_CHAT ORDER BY data\")# первый элемент - кол-во\n",
    "    result = c.fetchall()\n",
    "    print(result)"
   ]
  },
  {
   "cell_type": "code",
   "execution_count": 73,
   "metadata": {},
   "outputs": [],
   "source": [
    "def fifth(dbfile):\n",
    "    user = input('Type the name the user in whom you are interested in:')\n",
    "    c, conn = connect(dbfile)\n",
    "    c.execute(\"SELECT * FROM PERSONAL_CHAT WHERE who='{}'\".format(user))\n",
    "    result = [[user[1], user[3]] for user in c.fetchall()]\n",
    "    print(result)"
   ]
  },
  {
   "cell_type": "code",
   "execution_count": 74,
   "metadata": {},
   "outputs": [],
   "source": [
    "def sixth(dbfile):\n",
    "    users = input('Type the names of the usera in whom you are interested in as in the EXAMPLE:\\\n",
    "    \\n\"user1, user2\"\\n')\n",
    "    parsed_users = parsing(users)[0]\n",
    "    print(parsed_users)\n",
    "    c, conn = connect(dbfile)\n",
    "    c.execute(\"SELECT * FROM PERSONAL_CHAT WHERE who='{}' AND whom='{}' UNION SELECT * FROM PERSONAL_CHAT WHERE who='{}' AND whom='{}'\".format(parsed_users[1], parsed_users[0], parsed_users[0], parsed_users[1]))\n",
    "    result = [user for user in c.fetchall()]\n",
    "    print(result)"
   ]
  },
  {
   "cell_type": "code",
   "execution_count": 75,
   "metadata": {
    "collapsed": true
   },
   "outputs": [],
   "source": [
    "def seventh(dbfile):\n",
    "    c, conn = connect(dbfile)\n",
    "    c.execute(\"SELECT user, url FROM USERS ORDER BY user\")# первый элемент - кол-во\n",
    "    result = [user[0] for user in c.fetchall()]\n",
    "    print(result)"
   ]
  },
  {
   "cell_type": "code",
   "execution_count": 49,
   "metadata": {},
   "outputs": [],
   "source": [
    "def search():\n",
    "    dbfile = input('Type the name of the database where you want to search\\\n",
    "    (without filename extension): ') + '.db'\n",
    "    if not os.path.isfile(dbfile):\n",
    "        print('This database does not exist. Try once again')\n",
    "        search()\n",
    "    query = choice.Menu(queries).ask()\n",
    "    ind = queries.index(query)\n",
    "    if ind == 0:\n",
    "        first(dbfile)\n",
    "    if ind == 1:\n",
    "        second(dbfile)\n",
    "    if ind == 2:\n",
    "        third(dbfile)\n",
    "    if ind == 3:\n",
    "        forth(dbfile)\n",
    "    if ind == 4:\n",
    "        fifth(dbfile)\n",
    "    if ind == 5:\n",
    "        sixth(dbfile)\n",
    "    if ind == 6:\n",
    "        seventh(dbfile)\n",
    "    if ind == 8:\n",
    "        eight(dbfile)"
   ]
  },
  {
   "cell_type": "markdown",
   "metadata": {},
   "source": [
    "# Ищем по бд"
   ]
  },
  {
   "cell_type": "code",
   "execution_count": 50,
   "metadata": {},
   "outputs": [
    {
     "name": "stdout",
     "output_type": "stream",
     "text": [
      "Type the name of the database where you want to search    (without filename extension): dialogs\n",
      "Make a choice:\n",
      " 0: Количество уникальных пользователей в бд (и кто они)\n",
      " 1: Кол-во пользователей, которые не общаются в общем чате (и кто они)\n",
      " 2: Кол-во пользователей, который общаются только в общем чате (и кто они)\n",
      " 3: Кол-во пользователей, которые вообще не общаются (и кто они)\n",
      " 4: Кому что пишет отдельный пользователь\n",
      " 5: Диалог между двумя пользователями\n",
      " 6: Сортировать по алфавиту всех пользователей\n",
      " 7: Сортировать сообщения в общем чате по дате\n",
      "\n",
      "Enter number or name; return for next page\n",
      "? 0\n",
      "\n",
      "[4, 'user1', 'user2', 'user3', 'user4']\n"
     ]
    }
   ],
   "source": [
    "search()"
   ]
  },
  {
   "cell_type": "code",
   "execution_count": 51,
   "metadata": {},
   "outputs": [
    {
     "name": "stdout",
     "output_type": "stream",
     "text": [
      "Type the name of the database where you want to search    (without filename extension): dialogs\n",
      "Make a choice:\n",
      " 0: Количество уникальных пользователей в бд (и кто они)\n",
      " 1: Кол-во пользователей, которые не общаются в общем чате (и кто они)\n",
      " 2: Кол-во пользователей, который общаются только в общем чате (и кто они)\n",
      " 3: Кол-во пользователей, которые вообще не общаются (и кто они)\n",
      " 4: Кому что пишет отдельный пользователь\n",
      " 5: Диалог между двумя пользователями\n",
      " 6: Сортировать по алфавиту всех пользователей\n",
      " 7: Сортировать сообщения в общем чате по дате\n",
      "\n",
      "Enter number or name; return for next page\n",
      "? 1\n",
      "\n",
      "['user3', 'user4']\n",
      "2\n"
     ]
    }
   ],
   "source": [
    "search()"
   ]
  },
  {
   "cell_type": "code",
   "execution_count": 52,
   "metadata": {},
   "outputs": [
    {
     "name": "stdout",
     "output_type": "stream",
     "text": [
      "Type the name of the database where you want to search    (without filename extension): dialogs\n",
      "Make a choice:\n",
      " 0: Количество уникальных пользователей в бд (и кто они)\n",
      " 1: Кол-во пользователей, которые не общаются в общем чате (и кто они)\n",
      " 2: Кол-во пользователей, который общаются только в общем чате (и кто они)\n",
      " 3: Кол-во пользователей, которые вообще не общаются (и кто они)\n",
      " 4: Кому что пишет отдельный пользователь\n",
      " 5: Диалог между двумя пользователями\n",
      " 6: Сортировать по алфавиту всех пользователей\n",
      " 7: Сортировать сообщения в общем чате по дате\n",
      "\n",
      "Enter number or name; return for next page\n",
      "? 2\n",
      "\n",
      "[]\n",
      "0\n"
     ]
    }
   ],
   "source": [
    "search()"
   ]
  },
  {
   "cell_type": "code",
   "execution_count": 78,
   "metadata": {},
   "outputs": [
    {
     "name": "stdout",
     "output_type": "stream",
     "text": [
      "Type the name of the database where you want to search    (without filename extension): dialogs\n",
      "Make a choice:\n",
      " 0: Количество уникальных пользователей в бд (и кто они)\n",
      " 1: Кол-во пользователей, которые не общаются в общем чате (и кто они)\n",
      " 2: Кол-во пользователей, который общаются только в общем чате (и кто они)\n",
      " 3: Сортировать сообщения в общем чате по дате\n",
      " 4: Кому что пишет отдельный пользователь\n",
      " 5: Диалог между двумя пользователями\n",
      " 6: Сортировать по алфавиту всех пользователей\n",
      "\n",
      "Enter number or name; return for next page\n",
      "? 3\n",
      "\n",
      "[(1, 'massege1', 'user1', 'October 14, 2018 10:56PM'), (2, 'massege2', 'user1', 'October 14, 2018 10:56PM'), (3, 'massege3', 'user2', 'October 14, 2018 10:56PM'), (4, 'massege1', 'user1', 'October 14, 2018 10:56PM'), (5, 'massege2', 'user1', 'October 14, 2018 10:56PM'), (6, 'massege3', 'user2', 'October 14, 2018 10:56PM')]\n"
     ]
    }
   ],
   "source": [
    "search()"
   ]
  },
  {
   "cell_type": "code",
   "execution_count": 54,
   "metadata": {},
   "outputs": [
    {
     "name": "stdout",
     "output_type": "stream",
     "text": [
      "Type the name of the database where you want to search    (without filename extension): dialogs\n",
      "Make a choice:\n",
      " 0: Количество уникальных пользователей в бд (и кто они)\n",
      " 1: Кол-во пользователей, которые не общаются в общем чате (и кто они)\n",
      " 2: Кол-во пользователей, который общаются только в общем чате (и кто они)\n",
      " 3: Кол-во пользователей, которые вообще не общаются (и кто они)\n",
      " 4: Кому что пишет отдельный пользователь\n",
      " 5: Диалог между двумя пользователями\n",
      " 6: Сортировать по алфавиту всех пользователей\n",
      " 7: Сортировать сообщения в общем чате по дате\n",
      "\n",
      "Enter number or name; return for next page\n",
      "? 4\n",
      "\n",
      "Type the name the user in whom you are interested in:user1\n",
      "[['massege1', 'user2'], ['massege2', 'user3']]\n"
     ]
    }
   ],
   "source": [
    "search()"
   ]
  },
  {
   "cell_type": "code",
   "execution_count": 61,
   "metadata": {},
   "outputs": [
    {
     "name": "stdout",
     "output_type": "stream",
     "text": [
      "Type the name of the database where you want to search    (without filename extension): dialogs\n",
      "Make a choice:\n",
      " 0: Количество уникальных пользователей в бд (и кто они)\n",
      " 1: Кол-во пользователей, которые не общаются в общем чате (и кто они)\n",
      " 2: Кол-во пользователей, который общаются только в общем чате (и кто они)\n",
      " 3: Кол-во пользователей, которые вообще не общаются (и кто они)\n",
      " 4: Кому что пишет отдельный пользователь\n",
      " 5: Диалог между двумя пользователями\n",
      " 6: Сортировать по алфавиту всех пользователей\n",
      " 7: Сортировать сообщения в общем чате по дате\n",
      "\n",
      "Enter number or name; return for next page\n",
      "? 5\n",
      "\n",
      "Type the names of the usera in whom you are interested in as in the EXAMPLE:    \n",
      "\"user1, user2\"\n",
      "user1, user2\n",
      "['user1', 'user2']\n",
      "[(1, 'massege1', 'user1', 'user2', 'October 14, 2018 11:01PM')]\n"
     ]
    }
   ],
   "source": [
    "search()"
   ]
  },
  {
   "cell_type": "code",
   "execution_count": 56,
   "metadata": {},
   "outputs": [
    {
     "name": "stdout",
     "output_type": "stream",
     "text": [
      "Type the name of the database where you want to search    (without filename extension): dialogs\n",
      "Make a choice:\n",
      " 0: Количество уникальных пользователей в бд (и кто они)\n",
      " 1: Кол-во пользователей, которые не общаются в общем чате (и кто они)\n",
      " 2: Кол-во пользователей, который общаются только в общем чате (и кто они)\n",
      " 3: Кол-во пользователей, которые вообще не общаются (и кто они)\n",
      " 4: Кому что пишет отдельный пользователь\n",
      " 5: Диалог между двумя пользователями\n",
      " 6: Сортировать по алфавиту всех пользователей\n",
      " 7: Сортировать сообщения в общем чате по дате\n",
      "\n",
      "Enter number or name; return for next page\n",
      "? 6\n",
      "\n",
      "['user1', 'user2', 'user3', 'user4']\n"
     ]
    }
   ],
   "source": [
    "search()"
   ]
  },
  {
   "cell_type": "code",
   "execution_count": 57,
   "metadata": {},
   "outputs": [
    {
     "name": "stdout",
     "output_type": "stream",
     "text": [
      "Type the name of the database where you want to search    (without filename extension): dialogs\n",
      "Make a choice:\n",
      " 0: Количество уникальных пользователей в бд (и кто они)\n",
      " 1: Кол-во пользователей, которые не общаются в общем чате (и кто они)\n",
      " 2: Кол-во пользователей, который общаются только в общем чате (и кто они)\n",
      " 3: Кол-во пользователей, которые вообще не общаются (и кто они)\n",
      " 4: Кому что пишет отдельный пользователь\n",
      " 5: Диалог между двумя пользователями\n",
      " 6: Сортировать по алфавиту всех пользователей\n",
      " 7: Сортировать сообщения в общем чате по дате\n",
      "\n",
      "Enter number or name; return for next page\n",
      "? 7\n",
      "\n"
     ]
    }
   ],
   "source": [
    "search()"
   ]
  },
  {
   "cell_type": "code",
   "execution_count": null,
   "metadata": {
    "collapsed": true
   },
   "outputs": [],
   "source": []
  }
 ],
 "metadata": {
  "kernelspec": {
   "display_name": "Python 3",
   "language": "python",
   "name": "python3"
  },
  "language_info": {
   "codemirror_mode": {
    "name": "ipython",
    "version": 3
   },
   "file_extension": ".py",
   "mimetype": "text/x-python",
   "name": "python",
   "nbconvert_exporter": "python",
   "pygments_lexer": "ipython3",
   "version": "3.6.3"
  }
 },
 "nbformat": 4,
 "nbformat_minor": 2
}
