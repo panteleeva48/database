{
 "cells": [
  {
   "cell_type": "code",
   "execution_count": 1,
   "metadata": {},
   "outputs": [],
   "source": [
    "import mysql.connector"
   ]
  },
  {
   "cell_type": "markdown",
   "metadata": {},
   "source": [
    "## Подготовка:\n",
    "Создание базы данных, таблиц"
   ]
  },
  {
   "cell_type": "markdown",
   "metadata": {},
   "source": [
    "```python\n",
    "mydb = mysql.connector.connect(\n",
    "  host=\"localhost\",\n",
    "  user=\"irene\",\n",
    "  password=\"Vasya123\"\n",
    ")\n",
    "\n",
    "mycursor = mydb.cursor()\n",
    "mycursor.execute(\"CREATE DATABASE schedule\")\n",
    "```"
   ]
  },
  {
   "cell_type": "code",
   "execution_count": 2,
   "metadata": {},
   "outputs": [],
   "source": [
    "mydb = mysql.connector.connect(\n",
    "  host=\"localhost\",\n",
    "  user=\"irene\",\n",
    "  password=\"Vasya123\",\n",
    "  database=\"schedule\"\n",
    ")"
   ]
  },
  {
   "cell_type": "code",
   "execution_count": 3,
   "metadata": {
    "collapsed": true
   },
   "outputs": [],
   "source": [
    "mycursor = mydb.cursor()"
   ]
  },
  {
   "cell_type": "markdown",
   "metadata": {},
   "source": [
    "My system's databases"
   ]
  },
  {
   "cell_type": "code",
   "execution_count": 4,
   "metadata": {},
   "outputs": [
    {
     "name": "stdout",
     "output_type": "stream",
     "text": [
      "('information_schema',)\n",
      "('mysql',)\n",
      "('performance_schema',)\n",
      "('schedule',)\n",
      "('sys',)\n"
     ]
    }
   ],
   "source": [
    "mycursor.execute(\"SHOW DATABASES\")\n",
    "\n",
    "for x in mycursor:\n",
    "    print(x)"
   ]
  },
  {
   "cell_type": "markdown",
   "metadata": {},
   "source": [
    "### Задание:\n",
    "    У института есть преподаватели, учебные группы и аудитории. Организовать хранение расписания.\n",
    "### Таблицы:\n",
    "    1) BATCHES (id, Name): type(Name) = TEXT\n",
    "    2) CLASSES (id, Name): type(Name) = TEXT\n",
    "    3) BUILDINGS (id, Address): type(Address) = TEXT\n",
    "    4) CLASSROOMS (id, Number, id Address): type(Number) = INT\n",
    "    5) STUDENTS (id, Name, id Batch): type(Name) = TEXT\n",
    "    6) SCHEDULE (id, Date_Time, Teacher, id Batch, Classroom, id Building, id Class, id Student): type(Date_Time) = DATETIME"
   ]
  },
  {
   "cell_type": "code",
   "execution_count": 5,
   "metadata": {},
   "outputs": [
    {
     "name": "stdout",
     "output_type": "stream",
     "text": [
      "('BATCHES',)\n",
      "('BUILDINGS',)\n",
      "('CLASSES',)\n",
      "('CLASSROOMS',)\n",
      "('SCHEDULE',)\n",
      "('STUDENTS',)\n"
     ]
    }
   ],
   "source": [
    "mycursor.execute(\"SHOW TABLES\")\n",
    "\n",
    "for x in mycursor:\n",
    "    print(x)"
   ]
  },
  {
   "cell_type": "code",
   "execution_count": 6,
   "metadata": {},
   "outputs": [],
   "source": [
    "mycursor.execute(\"DROP TABLE BATCHES, CLASSES, BUILDINGS, CLASSROOMS, STUDENTS, SCHEDULE\")"
   ]
  },
  {
   "cell_type": "code",
   "execution_count": 7,
   "metadata": {},
   "outputs": [],
   "source": [
    "mycursor.execute(\"CREATE TABLE BATCHES (id INT AUTO_INCREMENT PRIMARY KEY, Name TEXT)\")\n",
    "mycursor.execute(\"CREATE TABLE CLASSES (id INT AUTO_INCREMENT PRIMARY KEY, Name TEXT)\")\n",
    "mycursor.execute(\"CREATE TABLE BUILDINGS (id INT AUTO_INCREMENT PRIMARY KEY, Address TEXT)\")\n",
    "mycursor.execute(\"CREATE TABLE CLASSROOMS (id INT AUTO_INCREMENT PRIMARY KEY, Number INT, Address INT)\")\n",
    "mycursor.execute(\"CREATE TABLE STUDENTS (id INT AUTO_INCREMENT PRIMARY KEY, Name TEXT, Batch INT)\")\n",
    "mycursor.execute(\"CREATE TABLE SCHEDULE (id INT AUTO_INCREMENT PRIMARY KEY, Date_Time DATETIME, Teacher TEXT, Batch INT, Classroom INT, Building INT, Class INT, Student INT)\")"
   ]
  },
  {
   "cell_type": "code",
   "execution_count": 8,
   "metadata": {},
   "outputs": [
    {
     "name": "stdout",
     "output_type": "stream",
     "text": [
      "('BATCHES',)\n",
      "('BUILDINGS',)\n",
      "('CLASSES',)\n",
      "('CLASSROOMS',)\n",
      "('SCHEDULE',)\n",
      "('STUDENTS',)\n"
     ]
    }
   ],
   "source": [
    "mycursor.execute(\"SHOW TABLES\")\n",
    "\n",
    "for x in mycursor:\n",
    "    print(x)"
   ]
  },
  {
   "cell_type": "markdown",
   "metadata": {},
   "source": [
    "### Что может делать юзер:\n",
    "    Вписывать расписание для одного студента\n",
    "    Вписывать расписание для группы"
   ]
  },
  {
   "cell_type": "markdown",
   "metadata": {},
   "source": [
    "### Переменные (вводятся юзером):\n",
    "    teacher_name, batch_name, class_name, building_adsress, classroom_num, student_name, date_time"
   ]
  },
  {
   "cell_type": "code",
   "execution_count": 9,
   "metadata": {},
   "outputs": [],
   "source": [
    "def insert(mycursor, mydb, teacher_name, batch_name, class_name, building_address, classroom_num, student_name, date_time):\n",
    "    \n",
    "    '''\n",
    "    Вставляем в таблицы, где нет повторов и ссылок.\n",
    "    '''\n",
    "    insert_without_dupl = \"INSERT INTO %s (%s) SELECT * FROM (SELECT '%s') AS tmp WHERE NOT EXISTS (SELECT %s FROM %s WHERE %s = '%s')\"\n",
    "    sql = insert_without_dupl % ('BATCHES', 'Name', batch_name, 'Name', 'BATCHES', 'Name', batch_name)\n",
    "    mycursor.execute(sql)\n",
    "    sql = insert_without_dupl % ('CLASSES', 'Name', class_name, 'Name', 'CLASSES', 'Name', class_name)\n",
    "    mycursor.execute(sql)\n",
    "    sql = insert_without_dupl % ('BUILDINGS', 'Address', building_address, 'Address', 'BUILDINGS', 'Address', building_address)\n",
    "    mycursor.execute(sql)\n",
    "    \n",
    "    '''\n",
    "    Вставляем в таблицу, где есть повторы и ссылки (имена и номера аудиторий (в двух корпусах есть аудитория 504) могут повторяться).\n",
    "    '''    \n",
    "    sql = \"SELECT id from BUILDINGS WHERE Address = '%s'\" % building_address\n",
    "    mycursor.execute(sql)\n",
    "    id_address = mycursor.fetchall()[0][0]\n",
    "    sql = \"INSERT INTO CLASSROOMS (Number, Address) VALUES (%s, %s)\" % (classroom_num, id_address)\n",
    "    mycursor.execute(sql)\n",
    "\n",
    "    # условимся, что имена внутри группы не могут повторяться\n",
    "    sql = \"SELECT id from BATCHES WHERE Name = '%s'\" % batch_name\n",
    "    mycursor.execute(sql)\n",
    "    id_batch = mycursor.fetchall()[0][0]\n",
    "    sql = \"INSERT INTO STUDENTS (Name, Batch) SELECT * FROM (SELECT '%s', %s) AS tmp WHERE NOT EXISTS (SELECT (Name) FROM STUDENTS WHERE Name = '%s' AND Batch = %s)\" % (student_name, id_batch, student_name, id_batch)\n",
    "    mycursor.execute(sql)\n",
    "    \n",
    "    sql = \"SELECT id from CLASSES WHERE Name = '%s'\" % class_name\n",
    "    mycursor.execute(sql)\n",
    "    id_class = mycursor.fetchall()[0][0]\n",
    "    sql = \"SELECT id from STUDENTS WHERE Name = '%s' AND Batch = '%s'\" % (student_name, id_batch)\n",
    "    mycursor.execute(sql)\n",
    "    id_student = mycursor.fetchall()[0][0]\n",
    "    sql = \"INSERT INTO SCHEDULE (Date_Time, Teacher, Batch, Classroom, Building, Class, Student) VALUES ('%s', '%s', %s, %s, %s, %s, %s)\" % (date_time, teacher_name, id_batch, classroom_num, id_address, id_class, id_student)\n",
    "    mycursor.execute(sql)\n",
    "    mydb.commit()\n",
    "    print(\"Inserted.\")"
   ]
  },
  {
   "cell_type": "code",
   "execution_count": 10,
   "metadata": {
    "collapsed": true
   },
   "outputs": [],
   "source": [
    "teachers = ['Толдова Светлана Юрьевна', 'Нефедов Михаил Анатольевич',\n",
    "            'Золотухин Всеволод Валерьевич', 'Золотухин Всеволод Валерьевич',\n",
    "            'Клышинский Эдуард Станиславович', 'Литвинов Денис Владимирович']\n",
    "batches = ['БКЛ-152', 'БКЛ-152', 'БКЛ-152', 'БКЛ-153', 'БКЛ-153', 'БКЛ-153']\n",
    "building_address = ['Старая Басманная ул., д. 21/4', 'Кирпичная ул., д. 33',\n",
    "                    'Старая Басманная ул., д. 21/4', 'Старая Басманная ул., д. 21/4',\n",
    "                    'Старая Басманная ул., д. 21/4', 'Старая Басманная ул., д. 21/4']\n",
    "classrooms = [505, 505, 503, 502, 321, 505]\n",
    "students = ['Пантелеева Ирина Максимовна', 'Пантелеева Ирина Максимовна',\n",
    "            'Пантелеева Ирина Максимовна', 'Глазунов Евгений Владимирович',\n",
    "            'Глазунов Евгений Владимирович', 'Глазунов Евгений Владимирович']\n",
    "date_time = ['2018-02-11 09:00:00', '2018-02-11 10:30:00',\n",
    "             '2018-02-11 12:10:00', '2018-02-11 09:00:00',\n",
    "             '2018-02-11 10:30:00', '2018-02-11 12:10:00',]\n",
    "classes = ['Компьютерная лингвистика и информационные технологии',\n",
    "           'Компьютерная лингвистика и информационные технологии', 'Философия',\n",
    "           'Философия', 'Базы данных', 'Программирование']"
   ]
  },
  {
   "cell_type": "code",
   "execution_count": 11,
   "metadata": {},
   "outputs": [
    {
     "name": "stdout",
     "output_type": "stream",
     "text": [
      "---\n",
      "Пантелеева Ирина Максимовна \n",
      " Компьютерная лингвистика и информационные технологии \n",
      " Толдова Светлана Юрьевна \n",
      " БКЛ-152 \n",
      " Старая Басманная ул., д. 21/4 \n",
      " 505 \n",
      " 2018-02-11 09:00:00 \n",
      "\n",
      "Inserted.\n",
      "---\n",
      "Пантелеева Ирина Максимовна \n",
      " Компьютерная лингвистика и информационные технологии \n",
      " Нефедов Михаил Анатольевич \n",
      " БКЛ-152 \n",
      " Кирпичная ул., д. 33 \n",
      " 505 \n",
      " 2018-02-11 10:30:00 \n",
      "\n",
      "Inserted.\n",
      "---\n",
      "Пантелеева Ирина Максимовна \n",
      " Философия \n",
      " Золотухин Всеволод Валерьевич \n",
      " БКЛ-152 \n",
      " Старая Басманная ул., д. 21/4 \n",
      " 503 \n",
      " 2018-02-11 12:10:00 \n",
      "\n",
      "Inserted.\n",
      "---\n",
      "Глазунов Евгений Владимирович \n",
      " Философия \n",
      " Золотухин Всеволод Валерьевич \n",
      " БКЛ-153 \n",
      " Старая Басманная ул., д. 21/4 \n",
      " 502 \n",
      " 2018-02-11 09:00:00 \n",
      "\n",
      "Inserted.\n",
      "---\n",
      "Глазунов Евгений Владимирович \n",
      " Базы данных \n",
      " Клышинский Эдуард Станиславович \n",
      " БКЛ-153 \n",
      " Старая Басманная ул., д. 21/4 \n",
      " 321 \n",
      " 2018-02-11 10:30:00 \n",
      "\n",
      "Inserted.\n",
      "---\n",
      "Глазунов Евгений Владимирович \n",
      " Программирование \n",
      " Литвинов Денис Владимирович \n",
      " БКЛ-153 \n",
      " Старая Басманная ул., д. 21/4 \n",
      " 505 \n",
      " 2018-02-11 12:10:00 \n",
      "\n",
      "Inserted.\n"
     ]
    }
   ],
   "source": [
    "for x in range(6):\n",
    "    print('---')\n",
    "    print(students[x], '\\n', classes[x], '\\n', teachers[x], '\\n', batches[x],\n",
    "          '\\n', building_address[x], '\\n', classrooms[x], '\\n',\n",
    "          date_time[x], '\\n',)\n",
    "    insert(mycursor, mydb,\n",
    "           teacher_name=teachers[x],\n",
    "           batch_name=batches[x],\n",
    "           class_name=classes[x],\n",
    "           building_address=building_address[x],\n",
    "           classroom_num=classrooms[x],\n",
    "           student_name=students[x],\n",
    "           date_time=date_time[x])"
   ]
  },
  {
   "cell_type": "markdown",
   "metadata": {},
   "source": [
    "Посмотрим как всё записалось:"
   ]
  },
  {
   "cell_type": "code",
   "execution_count": 12,
   "metadata": {
    "collapsed": true
   },
   "outputs": [],
   "source": [
    "tables = ['BATCHES', 'CLASSES', 'BUILDINGS', 'CLASSROOMS', 'STUDENTS', 'SCHEDULE']"
   ]
  },
  {
   "cell_type": "code",
   "execution_count": 13,
   "metadata": {},
   "outputs": [
    {
     "name": "stdout",
     "output_type": "stream",
     "text": [
      "---\n",
      "Table: BATCHES\n",
      "(1, 'БКЛ-152')\n",
      "(2, 'БКЛ-153')\n",
      "---\n",
      "Table: CLASSES\n",
      "(1, 'Компьютерная лингвистика и информационные технологии')\n",
      "(2, 'Философия')\n",
      "(3, 'Базы данных')\n",
      "(4, 'Программирование')\n",
      "---\n",
      "Table: BUILDINGS\n",
      "(1, 'Старая Басманная ул., д. 21/4')\n",
      "(2, 'Кирпичная ул., д. 33')\n",
      "---\n",
      "Table: CLASSROOMS\n",
      "(1, 505, 1)\n",
      "(2, 505, 2)\n",
      "(3, 503, 1)\n",
      "(4, 502, 1)\n",
      "(5, 321, 1)\n",
      "(6, 505, 1)\n",
      "---\n",
      "Table: STUDENTS\n",
      "(1, 'Пантелеева Ирина Максимовна', 1)\n",
      "(2, 'Глазунов Евгений Владимирович', 2)\n",
      "---\n",
      "Table: SCHEDULE\n",
      "(1, datetime.datetime(2018, 2, 11, 9, 0), 'Толдова Светлана Юрьевна', 1, 505, 1, 1, 1)\n",
      "(2, datetime.datetime(2018, 2, 11, 10, 30), 'Нефедов Михаил Анатольевич', 1, 505, 2, 1, 1)\n",
      "(3, datetime.datetime(2018, 2, 11, 12, 10), 'Золотухин Всеволод Валерьевич', 1, 503, 1, 2, 1)\n",
      "(4, datetime.datetime(2018, 2, 11, 9, 0), 'Золотухин Всеволод Валерьевич', 2, 502, 1, 2, 2)\n",
      "(5, datetime.datetime(2018, 2, 11, 10, 30), 'Клышинский Эдуард Станиславович', 2, 321, 1, 3, 2)\n",
      "(6, datetime.datetime(2018, 2, 11, 12, 10), 'Литвинов Денис Владимирович', 2, 505, 1, 4, 2)\n"
     ]
    }
   ],
   "source": [
    "for table in tables:\n",
    "    mycursor.execute(\"SELECT * FROM %s\" % table)\n",
    "    myresult = mycursor.fetchall()\n",
    "    print('---')\n",
    "    print('Table:', table)\n",
    "    for x in myresult:\n",
    "        print(x)"
   ]
  },
  {
   "cell_type": "markdown",
   "metadata": {},
   "source": [
    "### Запросы\n",
    "    Задание: Вы должны показать владение операторами SELECT и прочими, показав что вы умеете делать JOIN, или искать пересечение таблиц в WHERE, или пользоваться вложенными SELECT.\n",
    "    \n",
    "    1) Показать расписание определённого студента\n",
    "    2) Показать загруженность аудитории на определённый день"
   ]
  },
  {
   "cell_type": "markdown",
   "metadata": {},
   "source": [
    "#### 1) Показать расписание определённого студента"
   ]
  },
  {
   "cell_type": "code",
   "execution_count": 86,
   "metadata": {},
   "outputs": [],
   "source": [
    "def schedule_of_student(student_name, batch_name):\n",
    "    sql = \"SELECT SCHEDULE.Date_Time, SCHEDULE.Teacher, SCHEDULE.Classroom, BUILDINGS.Address, STUDENTS.Name, CLASSES.Name, BATCHES.Name FROM SCHEDULE JOIN BUILDINGS ON SCHEDULE.Building = BUILDINGS.id JOIN CLASSES ON SCHEDULE.Class = CLASSES.id JOIN BATCHES ON SCHEDULE.Batch = BATCHES.id JOIN STUDENTS ON SCHEDULE.Student = STUDENTS.id WHERE STUDENTS.Name = '%s' AND BATCHES.Name = '%s'\" % (student_name, batch_name)\n",
    "    mycursor.execute(sql)\n",
    "    id_student = mycursor.fetchall()\n",
    "    return id_student"
   ]
  },
  {
   "cell_type": "code",
   "execution_count": 87,
   "metadata": {},
   "outputs": [
    {
     "data": {
      "text/plain": [
       "[(datetime.datetime(2018, 2, 11, 9, 0),\n",
       "  'Толдова Светлана Юрьевна',\n",
       "  505,\n",
       "  'Старая Басманная ул., д. 21/4',\n",
       "  'Пантелеева Ирина Максимовна',\n",
       "  'Компьютерная лингвистика и информационные технологии',\n",
       "  'БКЛ-152'),\n",
       " (datetime.datetime(2018, 2, 11, 10, 30),\n",
       "  'Нефедов Михаил Анатольевич',\n",
       "  505,\n",
       "  'Кирпичная ул., д. 33',\n",
       "  'Пантелеева Ирина Максимовна',\n",
       "  'Компьютерная лингвистика и информационные технологии',\n",
       "  'БКЛ-152'),\n",
       " (datetime.datetime(2018, 2, 11, 12, 10),\n",
       "  'Золотухин Всеволод Валерьевич',\n",
       "  503,\n",
       "  'Старая Басманная ул., д. 21/4',\n",
       "  'Пантелеева Ирина Максимовна',\n",
       "  'Философия',\n",
       "  'БКЛ-152')]"
      ]
     },
     "execution_count": 87,
     "metadata": {},
     "output_type": "execute_result"
    }
   ],
   "source": [
    "schedule_of_student('Пантелеева Ирина Максимовна', 'БКЛ-152')"
   ]
  },
  {
   "cell_type": "code",
   "execution_count": null,
   "metadata": {
    "collapsed": true
   },
   "outputs": [],
   "source": []
  }
 ],
 "metadata": {
  "kernelspec": {
   "display_name": "Python 3",
   "language": "python",
   "name": "python3"
  },
  "language_info": {
   "codemirror_mode": {
    "name": "ipython",
    "version": 3
   },
   "file_extension": ".py",
   "mimetype": "text/x-python",
   "name": "python",
   "nbconvert_exporter": "python",
   "pygments_lexer": "ipython3",
   "version": "3.6.3"
  }
 },
 "nbformat": 4,
 "nbformat_minor": 2
}
