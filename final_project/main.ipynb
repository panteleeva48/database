{
 "cells": [
  {
   "cell_type": "code",
   "execution_count": 1,
   "metadata": {
    "collapsed": true
   },
   "outputs": [],
   "source": [
    "import mysql.connector\n",
    "import pandas as pd\n",
    "import os\n",
    "import pos_tag\n",
    "from tqdm import tqdm_notebook as tqdm\n",
    "import matplotlib.pyplot as plt; plt.rcdefaults()\n",
    "import numpy as np\n",
    "import matplotlib.pyplot as plt\n",
    "%matplotlib inline "
   ]
  },
  {
   "cell_type": "markdown",
   "metadata": {},
   "source": [
    "# 1. Создание базы данных\n",
    "\n",
    "Моя база данных будет называться \"inspector\""
   ]
  },
  {
   "cell_type": "markdown",
   "metadata": {},
   "source": [
    "```\n",
    "mydb = mysql.connector.connect(\n",
    "  host=\"localhost\",\n",
    "  user=\"irene\",\n",
    "  password=\"Vasya123\",\n",
    ")\n",
    "mycursor = mydb.cursor()\n",
    "mycursor.execute(\"CREATE DATABASE inspector\")\n",
    "```"
   ]
  },
  {
   "cell_type": "code",
   "execution_count": 2,
   "metadata": {
    "collapsed": true
   },
   "outputs": [],
   "source": [
    "inspector = mysql.connector.connect(\n",
    "    host=\"localhost\",\n",
    "    user=\"irene\",\n",
    "    password=\"Vasya123\", \n",
    "    database=\"inspector\"\n",
    ")\n",
    "ins_cursor = inspector.cursor()"
   ]
  },
  {
   "cell_type": "code",
   "execution_count": 3,
   "metadata": {},
   "outputs": [
    {
     "name": "stdout",
     "output_type": "stream",
     "text": [
      "('information_schema',)\n",
      "('inspector',)\n",
      "('mysql',)\n",
      "('performance_schema',)\n",
      "('schedule',)\n",
      "('sys',)\n"
     ]
    }
   ],
   "source": [
    "ins_cursor.execute(\"SHOW DATABASES\")\n",
    "\n",
    "for x in ins_cursor:\n",
    "    print(x)"
   ]
  },
  {
   "cell_type": "markdown",
   "metadata": {},
   "source": [
    "# 2. Описание базы данных \"inspector\""
   ]
  },
  {
   "cell_type": "markdown",
   "metadata": {},
   "source": [
    "**Тема**: Автоматическое оценивание экзаменационных эссе на основании [синт., лекс., морф., дискурс.] факторов\n",
    "\n",
    "**Задача**: база данных с текстами, разметкой [UdPipe](http://ufal.mff.cuni.cz/udpipe), ошибками на основании разметки корпуса [REALEC](http://realec.org), критериями, выделенными в ходе исследования\n",
    "\n",
    "**Что нужно уметь вытаскивать**:\n",
    "\n",
    "    1) По заданным start_pos и end_pos вывести ошибки на этом спане."
   ]
  },
  {
   "cell_type": "markdown",
   "metadata": {},
   "source": [
    "# 3. Нормальная форма базы данных \"inspector\""
   ]
  },
  {
   "cell_type": "markdown",
   "metadata": {},
   "source": [
    "**Таблицы** (если нет id в таблице, то ключ выделен \"!\"):\n",
    "\n",
    "                            DICT_TOKENS\n",
    "\n",
    "| id_token | token |\n",
    "|:--------:|:-----:|\n",
    "|INT       |TEXT   |\n",
    "\n",
    "                            DICT_POS\n",
    "\n",
    "| id_pos | pos |\n",
    "|:------:|:---:|\n",
    "|INT     |TEXT |\n",
    "\n",
    "                            DICT_LEMMAS\n",
    "\n",
    "| id_lemma | lemma |\n",
    "|:--------:|:-----:|\n",
    "|INT       |TEXT   |\n",
    "\n",
    "                            DICT_RELATIONS\n",
    "\n",
    "| id_relation | relation |\n",
    "|:-----------:|:--------:|\n",
    "|INT          |TEXT      |\n",
    "\n",
    "                            DICT_TYPES_OF_MISTAKES\n",
    "\n",
    "| id_type | type |\n",
    "|:-------:|:----:|\n",
    "|INT      |TEXT  |\n",
    "\n",
    "                            DICT_CRITERIA\n",
    "\n",
    "| id_criterion | criterion |\n",
    "|:------------:|:---------:|\n",
    "|INT           |TEXT       |\n",
    "\n",
    "                            TEXTS\n",
    "\n",
    "| id_text | name | text | mark |\n",
    "|:-------:|:----:|:----:|:----:|\n",
    "|INT      |TEXT  |TEXT  |TEXT  |\n",
    "\n",
    "                            TOKENS\n",
    "\n",
    "| id_token | !id_text | !start_pos | end_pos | id_pos | head | id_lemma | id_relation | grammar |\n",
    "|:--------:|:--------:|:----------:|:-------:|:------:|:----:|:--------:|:-----------:|:-------:|\n",
    "|INT       |INT       |INT         |INT      |INT     |INT   |INT       |INT          |TEXT     |\n",
    "\n",
    "                            MISTAKES\n",
    "\n",
    "| id_mistake | id_type | start_pos | end_pos | id_text |\n",
    "|:----------:|:-------:|:---------:|:-------:|:-------:|\n",
    "|INT         |INT      |INT        |INT      |INT      |\n",
    "\n",
    "                            CRITERIA\n",
    "\n",
    "| !id_text | !id_criterion | value |\n",
    "|:--------:|:-------------:|:-----:|\n",
    "|INT       |INT            |FLOAT  |"
   ]
  },
  {
   "cell_type": "code",
   "execution_count": 4,
   "metadata": {
    "collapsed": true
   },
   "outputs": [],
   "source": [
    "data = pd.read_csv('data.csv', index_col=0)#[0::10]"
   ]
  },
  {
   "cell_type": "code",
   "execution_count": 5,
   "metadata": {},
   "outputs": [
    {
     "data": {
      "text/html": [
       "<div>\n",
       "<style scoped>\n",
       "    .dataframe tbody tr th:only-of-type {\n",
       "        vertical-align: middle;\n",
       "    }\n",
       "\n",
       "    .dataframe tbody tr th {\n",
       "        vertical-align: top;\n",
       "    }\n",
       "\n",
       "    .dataframe thead th {\n",
       "        text-align: right;\n",
       "    }\n",
       "</style>\n",
       "<table border=\"1\" class=\"dataframe\">\n",
       "  <thead>\n",
       "    <tr style=\"text-align: right;\">\n",
       "      <th></th>\n",
       "      <th>name</th>\n",
       "      <th>mark</th>\n",
       "      <th>path</th>\n",
       "      <th>text</th>\n",
       "    </tr>\n",
       "  </thead>\n",
       "  <tbody>\n",
       "    <tr>\n",
       "      <th>0</th>\n",
       "      <td>AAl_13_1</td>\n",
       "      <td>best</td>\n",
       "      <td>./data/exam2014/AAl_13_1</td>\n",
       "      <td>The presented data shows us the percentage of ...</td>\n",
       "    </tr>\n",
       "    <tr>\n",
       "      <th>1</th>\n",
       "      <td>AAl_27_1</td>\n",
       "      <td>best</td>\n",
       "      <td>./data/exam2014/AAl_27_1</td>\n",
       "      <td>The graph provides data about the percentage o...</td>\n",
       "    </tr>\n",
       "    <tr>\n",
       "      <th>2</th>\n",
       "      <td>AAl_30_1</td>\n",
       "      <td>best</td>\n",
       "      <td>./data/exam2014/AAl_30_1</td>\n",
       "      <td>The diagram presents a number of people after ...</td>\n",
       "    </tr>\n",
       "    <tr>\n",
       "      <th>3</th>\n",
       "      <td>ZEv_3_1</td>\n",
       "      <td>best</td>\n",
       "      <td>./data/exam2014/ZEv_3_1</td>\n",
       "      <td>The charts provide information about travellin...</td>\n",
       "    </tr>\n",
       "    <tr>\n",
       "      <th>4</th>\n",
       "      <td>EEm_14_1</td>\n",
       "      <td>best</td>\n",
       "      <td>./data/exam2014/EEm_14_1</td>\n",
       "      <td>The given graph depicts the changes in the per...</td>\n",
       "    </tr>\n",
       "  </tbody>\n",
       "</table>\n",
       "</div>"
      ],
      "text/plain": [
       "       name  mark                      path  \\\n",
       "0  AAl_13_1  best  ./data/exam2014/AAl_13_1   \n",
       "1  AAl_27_1  best  ./data/exam2014/AAl_27_1   \n",
       "2  AAl_30_1  best  ./data/exam2014/AAl_30_1   \n",
       "3   ZEv_3_1  best   ./data/exam2014/ZEv_3_1   \n",
       "4  EEm_14_1  best  ./data/exam2014/EEm_14_1   \n",
       "\n",
       "                                                text  \n",
       "0  The presented data shows us the percentage of ...  \n",
       "1  The graph provides data about the percentage o...  \n",
       "2  The diagram presents a number of people after ...  \n",
       "3  The charts provide information about travellin...  \n",
       "4  The given graph depicts the changes in the per...  "
      ]
     },
     "execution_count": 5,
     "metadata": {},
     "output_type": "execute_result"
    }
   ],
   "source": [
    "data.head()"
   ]
  },
  {
   "cell_type": "code",
   "execution_count": 6,
   "metadata": {},
   "outputs": [
    {
     "data": {
      "text/plain": [
       "38"
      ]
     },
     "execution_count": 6,
     "metadata": {},
     "output_type": "execute_result"
    }
   ],
   "source": [
    "len(data[data['mark']=='best'])"
   ]
  },
  {
   "cell_type": "code",
   "execution_count": 7,
   "metadata": {
    "collapsed": true
   },
   "outputs": [],
   "source": [
    "def annotation(path):\n",
    "    with open(path + '.ann', 'r') as file:\n",
    "        lines = file.readlines()\n",
    "    i = 0\n",
    "    for line in lines:\n",
    "        if 'lemma' in line:\n",
    "            break\n",
    "        i += 1\n",
    "    only_ann = [l.split('\\t')[1].split() for l in lines[0:i-1] if l.startswith('T')]\n",
    "    return only_ann"
   ]
  },
  {
   "cell_type": "markdown",
   "metadata": {},
   "source": [
    "# 4. Создание таблиц"
   ]
  },
  {
   "cell_type": "markdown",
   "metadata": {},
   "source": [
    "Пользователь вводит текст, оценку за эссе, так же загружает файл с аннотацией (в данном проекте и в моей дипломной работе берутся готовые из бд [REALEC](http://realec.org)). В дальнейшем будет осуществлен автоматический парсинг ошибок, тогда не нужно будет отдельно создавать аннотационный файл - это будет производиться автоматически.\n",
    "\n",
    "Пример аннотационного файла:\n",
    "```\n",
    "T2\tSpelling 459 468\tsituvoion\n",
    "T7\tCapitalisation 238 246\tjapanese\n",
    "T8\tArticles 531 538\tPercent\n",
    "```"
   ]
  },
  {
   "cell_type": "code",
   "execution_count": 8,
   "metadata": {
    "collapsed": true
   },
   "outputs": [],
   "source": [
    "ins_cursor.execute(\"DROP TABLE DICT_TOKENS, \\\n",
    "                                DICT_POS, \\\n",
    "                                DICT_LEMMAS, \\\n",
    "                                DICT_RELATIONS, \\\n",
    "                                DICT_TYPES_OF_MISTAKES, \\\n",
    "                                DICT_CRITERIA, \\\n",
    "                                TEXTS, \\\n",
    "                                TOKENS, \\\n",
    "                                MISTAKES, \\\n",
    "                                CRITERIA\")"
   ]
  },
  {
   "cell_type": "code",
   "execution_count": 9,
   "metadata": {
    "collapsed": true
   },
   "outputs": [],
   "source": [
    "ins_cursor.execute(\"CREATE TABLE DICT_TOKENS (id_token INT AUTO_INCREMENT PRIMARY KEY, token TEXT);\")\n",
    "ins_cursor.execute(\"CREATE TABLE DICT_POS (id_pos INT AUTO_INCREMENT PRIMARY KEY, pos TEXT);\")\n",
    "ins_cursor.execute(\"CREATE TABLE DICT_LEMMAS (id_lemma INT AUTO_INCREMENT PRIMARY KEY, lemma TEXT);\")\n",
    "ins_cursor.execute(\"CREATE TABLE DICT_RELATIONS (id_relation INT AUTO_INCREMENT PRIMARY KEY, relation TEXT);\")\n",
    "ins_cursor.execute(\"CREATE TABLE DICT_TYPES_OF_MISTAKES (id_type INT AUTO_INCREMENT PRIMARY KEY, type TEXT);\")\n",
    "ins_cursor.execute(\"CREATE TABLE DICT_CRITERIA (id_criterion INT AUTO_INCREMENT PRIMARY KEY, criterion TEXT);\")\n",
    "ins_cursor.execute(\"CREATE TABLE TEXTS (id_text INT AUTO_INCREMENT PRIMARY KEY, name TEXT, text TEXT, mark TEXT);\")\n",
    "ins_cursor.execute(\"CREATE TABLE TOKENS (id_text INT, start_pos INT, PRIMARY KEY (id_text, start_pos), id_token INT, \\\n",
    "                                            end_pos INT, id_pos INT, head INT, id_lemma INT, \\\n",
    "                                            id_relation INT, grammar TEXT);\")\n",
    "ins_cursor.execute(\"CREATE TABLE MISTAKES (id_mistake INT AUTO_INCREMENT PRIMARY KEY, id_type INT, \\\n",
    "                                            start_pos INT, end_pos INT, id_text INT);\")\n",
    "ins_cursor.execute(\"CREATE TABLE CRITERIA (id_text INT, id_criterion INT, PRIMARY KEY (id_text, id_criterion), value FLOAT);\")"
   ]
  },
  {
   "cell_type": "markdown",
   "metadata": {},
   "source": [
    "**1 этап**: выборка"
   ]
  },
  {
   "cell_type": "code",
   "execution_count": 10,
   "metadata": {
    "collapsed": true
   },
   "outputs": [],
   "source": [
    "def insert1(ins_cursor, inspector, \n",
    "           name, text, mark, path):\n",
    "    '''\n",
    "    Функция для вставки в таблицы TOKENS, MISTAKES\n",
    "    \n",
    "    input: name of text, text, mark,  path/where/file/exists/\n",
    "    \n",
    "    example: insert1(ins_cursor, inspector, 'essey1', 'It is example.', 'best', './data/exam2014/essey1')\n",
    "    \n",
    "    '''\n",
    "    # вставить в TEXTS\n",
    "    ins_cursor.execute('SELECT COUNT(*) FROM TEXTS')\n",
    "    start = ins_cursor.fetchall()\n",
    "    # вставляем и праверяем, есть ли текст уже в таблице (вдруг под разное название попали одинаковые тексты)\n",
    "    sql = \"INSERT INTO TEXTS (name, text, mark) \\\n",
    "    SELECT * FROM (SELECT '%s', '%s', '%s') AS tmp \\\n",
    "    WHERE NOT EXISTS (SELECT text FROM TEXTS WHERE text = '%s');\" % (name, text.replace(\"'\", '*'), mark, text.replace(\"'\", '*'))\n",
    "    ins_cursor.execute(sql)\n",
    "    inspector.commit()\n",
    "    ins_cursor.execute('SELECT COUNT(*) FROM TEXTS')\n",
    "    end = ins_cursor.fetchall()\n",
    "    if start != end:\n",
    "        df = pos_tag.itog(text)\n",
    "        for index, row in df.iterrows():\n",
    "            token = row[\"Form\"].replace(\"'\", '*')\n",
    "            lemma = row[\"Lemma\"].replace(\"'\", '*')\n",
    "            pos = row[\"UPosTag\"]\n",
    "            grammar = row[\"Feats\"]\n",
    "            head = row[\"Head\"]\n",
    "            relation = row[\"DepRel\"]\n",
    "            start_pos = row[\"START\"]\n",
    "            end_pos = row[\"END\"]\n",
    "            if type(head) != int:\n",
    "                head = 'NULL'\n",
    "            id_text = 1\n",
    "            # вставить в DICT_TOKENS\n",
    "            sql = \"INSERT INTO DICT_TOKENS (token) \\\n",
    "            SELECT * FROM (SELECT '%s') AS tmp \\\n",
    "            WHERE NOT EXISTS (SELECT token FROM DICT_TOKENS WHERE token = '%s');\" % (token, token)\n",
    "            ins_cursor.execute(sql)\n",
    "            # вставить в DICT_LEMMAS\n",
    "            sql = \"INSERT INTO DICT_LEMMAS (lemma) \\\n",
    "            SELECT * FROM (SELECT '%s') AS tmp \\\n",
    "            WHERE NOT EXISTS (SELECT lemma FROM DICT_LEMMAS WHERE lemma = '%s');\" % (lemma, lemma)\n",
    "            ins_cursor.execute(sql)\n",
    "            # вставить в DICT_POS\n",
    "            sql = \"INSERT INTO DICT_POS (pos) \\\n",
    "            SELECT * FROM (SELECT '%s') AS tmp \\\n",
    "            WHERE NOT EXISTS (SELECT pos FROM DICT_POS WHERE pos = '%s');\" % (pos, pos)\n",
    "            ins_cursor.execute(sql)\n",
    "            # вставить в DICT_RELATIONS\n",
    "            sql = \"INSERT INTO DICT_RELATIONS (relation) \\\n",
    "            SELECT * FROM (SELECT '%s') AS tmp \\\n",
    "            WHERE NOT EXISTS (SELECT relation FROM DICT_RELATIONS WHERE relation = '%s');\" % (relation, relation)\n",
    "            ins_cursor.execute(sql)\n",
    "            # собираем TOKENS\n",
    "            sql = \"INSERT INTO TOKENS \\\n",
    "            (id_text, start_pos, id_token, end_pos, id_pos, head, id_lemma, id_relation, grammar) \\\n",
    "            VALUES ((SELECT id_text FROM TEXTS WHERE text='%s'), %s, (SELECT id_token FROM DICT_TOKENS WHERE token='%s'), \\\n",
    "            %s, (SELECT id_pos FROM DICT_POS WHERE pos='%s'), %s, \\\n",
    "            (SELECT id_lemma FROM DICT_LEMMAS WHERE lemma='%s'), \\\n",
    "            (SELECT id_relation FROM DICT_RELATIONS WHERE relation='%s'), \\\n",
    "            '%s');\" % (text.replace(\"'\", '*'), start_pos, token, end_pos, pos, head, lemma, relation, grammar)\n",
    "            ins_cursor.execute(sql)\n",
    "        # вставить в DICT_TYPES_OF_MISTAKES\n",
    "        try: # проверяем, есть ли файл аннотации\n",
    "            only_ann = annotation(path)\n",
    "            for each in only_ann:\n",
    "                type_of_mistake = each[0]\n",
    "                start_pos = each[1]\n",
    "                end_pos = each[2]\n",
    "                sql = \"INSERT INTO DICT_TYPES_OF_MISTAKES (type) \\\n",
    "                SELECT * FROM (SELECT '%s') AS tmp \\\n",
    "                WHERE NOT EXISTS (SELECT type FROM DICT_TYPES_OF_MISTAKES WHERE type = '%s');\" % (type_of_mistake,\n",
    "                                                                                                      type_of_mistake)\n",
    "                ins_cursor.execute(sql)\n",
    "                # собираем MISTAKES\n",
    "                sql = \"INSERT INTO MISTAKES (id_type, \\\n",
    "                start_pos, end_pos, id_text) VALUES \\\n",
    "                ((SELECT id_type FROM DICT_TYPES_OF_MISTAKES WHERE type='%s'), \\\n",
    "                %s, %s, (SELECT id_text FROM TEXTS WHERE text='%s'));\" % (type_of_mistake, start_pos,\n",
    "                                                                             end_pos, text.replace(\"'\", '*'))\n",
    "                ins_cursor.execute(sql)\n",
    "        except:\n",
    "            print('No annotation file in directory!')\n",
    "        inspector.commit()\n",
    "        #print(\"Inserted.\")\n",
    "    else:\n",
    "        print(\"You have already inserted this text.\")"
   ]
  },
  {
   "cell_type": "code",
   "execution_count": 11,
   "metadata": {},
   "outputs": [
    {
     "data": {
      "application/vnd.jupyter.widget-view+json": {
       "model_id": "d2c8cbe38ba04125b481924aa53ddb28",
       "version_major": 2,
       "version_minor": 0
      },
      "text/plain": [
       "A Jupyter Widget"
      ]
     },
     "metadata": {},
     "output_type": "display_data"
    },
    {
     "name": "stdout",
     "output_type": "stream",
     "text": [
      "\n"
     ]
    }
   ],
   "source": [
    "for index, row in tqdm(data.iterrows()):\n",
    "    name = row[\"name\"]\n",
    "    text = row[\"text\"]\n",
    "    mark = row[\"mark\"]\n",
    "    path = row[\"path\"]\n",
    "    try:\n",
    "        insert1(ins_cursor, inspector, name, text, mark, path)\n",
    "    except:\n",
    "        print('Problem with file', name)"
   ]
  },
  {
   "cell_type": "markdown",
   "metadata": {},
   "source": [
    "**2 этап**: оценка эссе по критериям"
   ]
  },
  {
   "cell_type": "code",
   "execution_count": 12,
   "metadata": {
    "collapsed": true
   },
   "outputs": [],
   "source": [
    "def insert2(ins_cursor, inspector, \n",
    "           name, criterion, value):\n",
    "    '''\n",
    "    Функция для вставки в таблицы TOKENS, MISTAKES\n",
    "    \n",
    "    input: name of text, criterion, value\n",
    "    \n",
    "    example: essey1, num_tokens, 3\n",
    "    \n",
    "    '''\n",
    "    # вставляем, если нет в DICT_CRITERIA\n",
    "    sql = \"INSERT INTO DICT_CRITERIA (criterion) \\\n",
    "    SELECT * FROM (SELECT '%s') AS tmp \\\n",
    "    WHERE NOT EXISTS (SELECT criterion FROM DICT_CRITERIA WHERE criterion = '%s');\" % (criterion, criterion)\n",
    "    ins_cursor.execute(sql)\n",
    "    # заносим данные в CRITERIA\n",
    "    try:\n",
    "        sql = \"INSERT INTO CRITERIA (id_text, id_criterion, value) \\\n",
    "        VALUES ((SELECT id_text FROM TEXTS WHERE name='%s'), \\\n",
    "        (SELECT id_criterion FROM DICT_CRITERIA WHERE criterion='%s'), \\\n",
    "        %s);\" % (name, criterion, value)\n",
    "        ins_cursor.execute(sql)\n",
    "    except:\n",
    "        'Error.'\n",
    "    inspector.commit()\n",
    "    #print(\"Inserted.\")"
   ]
  },
  {
   "cell_type": "code",
   "execution_count": 13,
   "metadata": {
    "collapsed": true
   },
   "outputs": [],
   "source": [
    "for x in data['name'][0:25]:\n",
    "    insert2(ins_cursor, inspector, x, 'num_tokens', 200)\n",
    "for x in data['name'][25:]:\n",
    "    insert2(ins_cursor, inspector, x, 'num_tokens', 300)"
   ]
  },
  {
   "cell_type": "code",
   "execution_count": 14,
   "metadata": {},
   "outputs": [
    {
     "name": "stdout",
     "output_type": "stream",
     "text": [
      "---\n",
      "Table: DICT_TOKENS\n",
      "(1, 'The')\n",
      "(2, 'presented')\n",
      "(3, 'data')\n",
      "(4, 'shows')\n",
      "(5, 'us')\n",
      "---\n",
      "Table: DICT_POS\n",
      "(1, 'DET')\n",
      "(2, 'VERB')\n",
      "(3, 'NOUN')\n",
      "(4, 'PRON')\n",
      "(5, 'ADP')\n",
      "---\n",
      "Table: DICT_LEMMAS\n",
      "(1, 'the')\n",
      "(2, 'presented')\n",
      "(3, 'datum')\n",
      "(4, 'show')\n",
      "(5, 'us')\n",
      "---\n",
      "Table: DICT_RELATIONS\n",
      "(1, 'det')\n",
      "(2, 'acl')\n",
      "(3, 'nsubj')\n",
      "(4, 'root')\n",
      "(5, 'iobj')\n",
      "---\n",
      "Table: DICT_TYPES_OF_MISTAKES\n",
      "(1, 'Spelling')\n",
      "(2, 'Tense_form')\n",
      "(3, 'Often_confused')\n",
      "(4, 'Articles')\n",
      "(5, 'Prepositions')\n",
      "---\n",
      "Table: DICT_CRITERIA\n",
      "(1, 'num_tokens')\n",
      "---\n",
      "Table: TEXTS\n",
      "(1, 'AAl_13_1', 'The presented data shows us the percentage of people aged 65 and over in three different countries (USA, Sweden and Japan) in the second half of the 20th century and up to 2040. But what factory make the figures so varied?\\nFirst of all, it is the average length of life. Japan is well-known for its long-living people , and that is why the proportion of them is expected to excud 25% by 2040. However, the economic situation has not always been so brilliant , moreover, it was much worse there then in Europe and America , so the number was relatively low until the expected acute rise in 2030. Also, that is due to the fact that more children are born in Japan , and as a result, they take up some *space* in the generations division. \\nSecondly, it is social policy that afects the quality of life. After the introduction of state insurance and pensions both in the USA and Sweden , more elderly people were able to afford suitable medical treatment, housing or other benefits. Another option is the decline in the number of children per family. More and more young people decline to start a family later anf have only 1 or 2 offsprings , and this tendency will certainly bring about the growth of the proportion of the elderly people, as those born in 1975 are 65 years old by 2040.\\nTo draw a conclusion, we may say that not only social or economic tendencies , but also government policies might cause certain changes in social proportions , consequently, these policies and tendencies should be accurately governed.\\n', 'best')\n",
      "(2, 'AAl_27_1', 'The graph provides data about the percentage of group of people 65 years old and over. It demonstrates a change of this proportion from 1940 to 2040 in Japan, Sweden and USA.\\nIt*s clear from the graph that in every compacative country the quantity of people 65 years old and over would increase from 5%-10% in 1940 to 25% approximately in 2040. However, the ways of growing are different. The percentage of population aged 65 and over in USA is guaducelly increasing during this 100 years like in Sweden. By contrast , Japan*s group of people 65 years old and over had been decreasing from 1940 to 1983 approximately, then it began to rise slightly and in 2030 there would be drammatic increase from 10% to 25%. In USA and Sweden there were periods of decline too - from 1980 to 1990 and from 1980 to 2014 respectively. Moreover, next period of decrease of population aged 65 and over is expected in USA in 2015.\\nAs a result of change Japan will be the oldest country in 2040, then Sweden and USA respectively. It means that Japan will be in risk of demography problems.\\n', 'best')\n",
      "(3, 'AAl_30_1', 'The diagram presents a number of people after 65 years old in percentage from number of all people. The indicators are devided on 3 groups with countries: Japan, Sweden and USA, and shows changes in the 100 year period from 1940 to 2040.\\nThe population aged 65 and over from Japan was only 5 percent in 1940. Then there was slightly decrease for 20 years period and it was a constant next 20 years . After 1980 it become to increase slightly. According to graph this increase will be continued and in 2030 will go up dramatically to 25 percent.\\nIn Sweden the number of people in 1940 was about 7 percent. Between 1940 and 1980 this number was increasing. After that there was slight fall and than sharp rise. The same situation will be between 2010 and 2040. The numbers will reach almost 25 percent.\\nIn the USA there were almost 10 percent aged people in 1940. Between 1940 and 1980 it was a little more than in Sweden . After 1980 the indicators were stable and after 2020 will rise to 23 percent in 2040.\\nTo sum up, it can be seen from the graph, the number of people aged 65 and over increase and will reach the number nearly 25 percent to 2040 in all countries.\\n', 'best')\n",
      "(4, 'ZEv_3_1', 'The charts provide information about travelling abroad by Englishmen and visits to the UK by foreigners from 1979 to 1999 as well as the most popular countries which UK residents went to in 1999.\\n\\tDue to the charts, UK residents travelled to the other countries more than overseas residents visited UK. Moreover, there were two most visited countries by the English which were Spain and France.\\nTo look more precisely at the first chart, there was slight difference between numbers of UK travelers and foreign travelers in 1979, which accounted approximately 13 millions and 10 millions respectively. This difference had increased substantially by 1999, making up to 28 millions and 54 millions respectively.\\nDue to the information about the most preferred countries by the English in 1999, the most popular ones were France and Spain which are visited by 11 millions and 8 millions people. USA was the third most visited country (roughly 4 million of people), while Greece and Turkey were the forth and fifth ones (3 millions and 2 millions respectively).\\nOverall, the UK residents were more active travelers than foreigners in the UK in period between 1979 and 1999.\\n', 'best')\n",
      "(5, 'EEm_14_1', 'The given graph depicts the changes in the percentages of the people aged 65 and over in the time period between 1940 and 2040 in three countries.\\n\\nThe first visible trend can be found if we compare the growth dynamics of elderly population in Sweden and USA. In 1940 the percentage of these people in USA was close to 10% while in Sweden it was about 7%. From then on the figures of these countries grew steadily until 1995. In that year the percentage of population aged aged 65 and over rocketed in Sweden hitting the maximum point of 20% while the same trend stayed in USA. It is predicted that their percentages will narrow in the 2020’s but the USA will not be able to keep up with Sweden.\\n\\nUp until the early 2000’s the percentage of elderly people in Japan was fluctuating, falling to the lowest point between 1960 and 1980. But then it grew steadily and it is highly possible that it will rise sharply up to more than 25% in 2040.\\n\\nOverall it is clear that while Sweden and USA share the same trend features, Japan, after the years of low percentage rates, will catch up on other countries.\\n', 'best')\n",
      "---\n",
      "Table: TOKENS\n",
      "(1, 0, 1, 3, 1, 3, 1, 1, 'Definite=Def|PronType=Art')\n",
      "(1, 4, 2, 13, 2, 3, 2, 2, 'Tense=Past|VerbForm=Part')\n",
      "(1, 14, 3, 18, 3, 4, 3, 3, 'Number=Plur')\n",
      "(1, 19, 4, 24, 2, 0, 4, 4, 'Mood=Ind|Number=Sing|Person=3|Tense=Pres|VerbForm=Fin')\n",
      "(1, 25, 5, 27, 4, 4, 5, 5, 'Number=Plur|Person=1|PronType=Prs')\n",
      "---\n",
      "Table: MISTAKES\n",
      "(1, 1, 187, 194, 1)\n",
      "(2, 2, 195, 199, 1)\n",
      "(3, 1, 374, 379, 1)\n",
      "(4, 1, 772, 778, 1)\n",
      "(5, 1, 1106, 1109, 1)\n",
      "---\n",
      "Table: CRITERIA\n",
      "(1, 1, 200.0)\n",
      "(2, 1, 200.0)\n",
      "(3, 1, 200.0)\n",
      "(4, 1, 200.0)\n",
      "(5, 1, 200.0)\n"
     ]
    }
   ],
   "source": [
    "tables = ['DICT_TOKENS', 'DICT_POS', 'DICT_LEMMAS', 'DICT_RELATIONS',\n",
    "          'DICT_TYPES_OF_MISTAKES', 'DICT_CRITERIA', 'TEXTS', 'TOKENS', 'MISTAKES', 'CRITERIA']\n",
    "for table in tables:\n",
    "    ins_cursor.execute(\"SELECT * FROM %s;\" % table)\n",
    "    myresult = ins_cursor.fetchall()\n",
    "    print('---')\n",
    "    print('Table:', table)\n",
    "    for x in myresult[:5]:\n",
    "        print(x)"
   ]
  },
  {
   "cell_type": "markdown",
   "metadata": {
    "collapsed": true
   },
   "source": [
    "# 5. Удаление из таблиц"
   ]
  },
  {
   "cell_type": "markdown",
   "metadata": {},
   "source": [
    "Можно удалить тексты и критерии."
   ]
  },
  {
   "cell_type": "markdown",
   "metadata": {},
   "source": [
    "Создаём триггер, чтобы когда удалялся текст из таблицы текст, он удалялся из всей бд"
   ]
  },
  {
   "cell_type": "code",
   "execution_count": 15,
   "metadata": {
    "collapsed": true
   },
   "outputs": [],
   "source": [
    "def trigger_text():\n",
    "    sql = \"CREATE TRIGGER delete_text BEFORE DELETE ON TEXTS\\n\" + \\\n",
    "    \"    FOR EACH ROW BEGIN\\n\" + \\\n",
    "    \"        DELETE FROM CRITERIA WHERE id_text = OLD.id_text;\\n\" + \\\n",
    "    \"        DELETE FROM TOKENS WHERE id_text = OLD.id_text;\\n\" + \\\n",
    "    \"        DELETE FROM MISTAKES WHERE id_text = OLD.id_text;\\n\" + \\\n",
    "    \"    END;\"\n",
    "    ins_cursor.execute(sql)\n",
    "    inspector.commit()"
   ]
  },
  {
   "cell_type": "code",
   "execution_count": 16,
   "metadata": {
    "collapsed": true
   },
   "outputs": [],
   "source": [
    "try:\n",
    "    trigger_text()\n",
    "except:\n",
    "    sql = \"DROP TRIGGER delete_text;\"\n",
    "    ins_cursor.execute(sql)\n",
    "    inspector.commit()\n",
    "    trigger_text()"
   ]
  },
  {
   "cell_type": "code",
   "execution_count": 17,
   "metadata": {
    "collapsed": true
   },
   "outputs": [],
   "source": [
    "def delete1(ins_cursor, inspector, name):\n",
    "    sql = \"DELETE FROM TEXTS WHERE TEXTS.name = '%s';\" % name\n",
    "    ins_cursor.execute(sql)\n",
    "    inspector.commit()"
   ]
  },
  {
   "cell_type": "code",
   "execution_count": 18,
   "metadata": {},
   "outputs": [],
   "source": [
    "delete1(ins_cursor, inspector, 'AAl_27_1')"
   ]
  },
  {
   "cell_type": "code",
   "execution_count": 19,
   "metadata": {},
   "outputs": [
    {
     "name": "stdout",
     "output_type": "stream",
     "text": [
      "---\n",
      "Table: TEXTS\n",
      "(1, 'AAl_13_1', 'The presented data shows us the percentage of people aged 65 and over in three different countries (USA, Sweden and Japan) in the second half of the 20th century and up to 2040. But what factory make the figures so varied?\\nFirst of all, it is the average length of life. Japan is well-known for its long-living people , and that is why the proportion of them is expected to excud 25% by 2040. However, the economic situation has not always been so brilliant , moreover, it was much worse there then in Europe and America , so the number was relatively low until the expected acute rise in 2030. Also, that is due to the fact that more children are born in Japan , and as a result, they take up some *space* in the generations division. \\nSecondly, it is social policy that afects the quality of life. After the introduction of state insurance and pensions both in the USA and Sweden , more elderly people were able to afford suitable medical treatment, housing or other benefits. Another option is the decline in the number of children per family. More and more young people decline to start a family later anf have only 1 or 2 offsprings , and this tendency will certainly bring about the growth of the proportion of the elderly people, as those born in 1975 are 65 years old by 2040.\\nTo draw a conclusion, we may say that not only social or economic tendencies , but also government policies might cause certain changes in social proportions , consequently, these policies and tendencies should be accurately governed.\\n', 'best')\n",
      "(3, 'AAl_30_1', 'The diagram presents a number of people after 65 years old in percentage from number of all people. The indicators are devided on 3 groups with countries: Japan, Sweden and USA, and shows changes in the 100 year period from 1940 to 2040.\\nThe population aged 65 and over from Japan was only 5 percent in 1940. Then there was slightly decrease for 20 years period and it was a constant next 20 years . After 1980 it become to increase slightly. According to graph this increase will be continued and in 2030 will go up dramatically to 25 percent.\\nIn Sweden the number of people in 1940 was about 7 percent. Between 1940 and 1980 this number was increasing. After that there was slight fall and than sharp rise. The same situation will be between 2010 and 2040. The numbers will reach almost 25 percent.\\nIn the USA there were almost 10 percent aged people in 1940. Between 1940 and 1980 it was a little more than in Sweden . After 1980 the indicators were stable and after 2020 will rise to 23 percent in 2040.\\nTo sum up, it can be seen from the graph, the number of people aged 65 and over increase and will reach the number nearly 25 percent to 2040 in all countries.\\n', 'best')\n",
      "(4, 'ZEv_3_1', 'The charts provide information about travelling abroad by Englishmen and visits to the UK by foreigners from 1979 to 1999 as well as the most popular countries which UK residents went to in 1999.\\n\\tDue to the charts, UK residents travelled to the other countries more than overseas residents visited UK. Moreover, there were two most visited countries by the English which were Spain and France.\\nTo look more precisely at the first chart, there was slight difference between numbers of UK travelers and foreign travelers in 1979, which accounted approximately 13 millions and 10 millions respectively. This difference had increased substantially by 1999, making up to 28 millions and 54 millions respectively.\\nDue to the information about the most preferred countries by the English in 1999, the most popular ones were France and Spain which are visited by 11 millions and 8 millions people. USA was the third most visited country (roughly 4 million of people), while Greece and Turkey were the forth and fifth ones (3 millions and 2 millions respectively).\\nOverall, the UK residents were more active travelers than foreigners in the UK in period between 1979 and 1999.\\n', 'best')\n",
      "(5, 'EEm_14_1', 'The given graph depicts the changes in the percentages of the people aged 65 and over in the time period between 1940 and 2040 in three countries.\\n\\nThe first visible trend can be found if we compare the growth dynamics of elderly population in Sweden and USA. In 1940 the percentage of these people in USA was close to 10% while in Sweden it was about 7%. From then on the figures of these countries grew steadily until 1995. In that year the percentage of population aged aged 65 and over rocketed in Sweden hitting the maximum point of 20% while the same trend stayed in USA. It is predicted that their percentages will narrow in the 2020’s but the USA will not be able to keep up with Sweden.\\n\\nUp until the early 2000’s the percentage of elderly people in Japan was fluctuating, falling to the lowest point between 1960 and 1980. But then it grew steadily and it is highly possible that it will rise sharply up to more than 25% in 2040.\\n\\nOverall it is clear that while Sweden and USA share the same trend features, Japan, after the years of low percentage rates, will catch up on other countries.\\n', 'best')\n",
      "(6, 'EEm_16_1', 'The graph represents the share of the elderly people in three countries: Japan, Sweden and USA over the period between 1940 and 2040.\\n\\nIn Japan, the proportion of elderly people is the lowest out of three countries and stays under 5% up until the beginning of the 2000s. However, there is an upward trend since the end of the 1990s. In 2030 the procentage line goes up almost vertically and reaches the maximum of roughly 27% by 2040.\\n\\nThe USA and Sweden rising trends are similar with insignificant differences until the end of the 1990s. The rate of the increase changes by approaching the new century. The USA figures grow slowly and steadily after 2020 with the «plato» period of 20 years before that. Sweden people aged 65 and over experience a sharper increase with dramatic fluctuations, joining the consequential rise after 2020.\\n\\nThe overall tendency is the increase of the number of the elderly people to the population of the country in general. In Sweden and USA the original proportion of the elderly people doubles, while the Japan figure rises in 5 times.\\n', 'best')\n",
      "---\n",
      "Table: CRITERIA\n",
      "(1, 1, 200.0)\n",
      "(3, 1, 200.0)\n",
      "(4, 1, 200.0)\n",
      "(5, 1, 200.0)\n",
      "(6, 1, 200.0)\n",
      "---\n",
      "Table: TOKENS\n",
      "(1, 0, 1, 3, 1, 3, 1, 1, 'Definite=Def|PronType=Art')\n",
      "(1, 4, 2, 13, 2, 3, 2, 2, 'Tense=Past|VerbForm=Part')\n",
      "(1, 14, 3, 18, 3, 4, 3, 3, 'Number=Plur')\n",
      "(1, 19, 4, 24, 2, 0, 4, 4, 'Mood=Ind|Number=Sing|Person=3|Tense=Pres|VerbForm=Fin')\n",
      "(1, 25, 5, 27, 4, 4, 5, 5, 'Number=Plur|Person=1|PronType=Prs')\n",
      "---\n",
      "Table: MISTAKES\n",
      "(1, 1, 187, 194, 1)\n",
      "(2, 2, 195, 199, 1)\n",
      "(3, 1, 374, 379, 1)\n",
      "(4, 1, 772, 778, 1)\n",
      "(5, 1, 1106, 1109, 1)\n"
     ]
    }
   ],
   "source": [
    "tables = ['TEXTS', 'CRITERIA', 'TOKENS', 'MISTAKES']\n",
    "for table in tables:\n",
    "    ins_cursor.execute(\"SELECT * FROM %s\" % table)\n",
    "    myresult = ins_cursor.fetchall()\n",
    "    print('---')\n",
    "    print('Table:', table)\n",
    "    for x in myresult[:5]:\n",
    "        print(x)"
   ]
  },
  {
   "cell_type": "code",
   "execution_count": 20,
   "metadata": {
    "collapsed": true
   },
   "outputs": [],
   "source": [
    "def delete2(ins_cursor, inspector, criterion):\n",
    "    sql = \"DELETE FROM CRITERIA WHERE id_criterion = \\\n",
    "    (SELECT id_criterion FROM DICT_CRITERIA WHERE criterion='%s');\" % criterion\n",
    "    ins_cursor.execute(sql)\n",
    "    sql = \"DELETE FROM DICT_CRITERIA WHERE criterion='%s';\" % criterion\n",
    "    ins_cursor.execute(sql)\n",
    "    inspector.commit()"
   ]
  },
  {
   "cell_type": "code",
   "execution_count": 21,
   "metadata": {
    "collapsed": true
   },
   "outputs": [],
   "source": [
    "delete2(ins_cursor, inspector, 'num_tokens')"
   ]
  },
  {
   "cell_type": "code",
   "execution_count": 22,
   "metadata": {},
   "outputs": [
    {
     "name": "stdout",
     "output_type": "stream",
     "text": [
      "---\n",
      "Table: DICT_CRITERIA\n",
      "---\n",
      "Table: CRITERIA\n"
     ]
    }
   ],
   "source": [
    "tables = ['DICT_CRITERIA', 'CRITERIA']\n",
    "for table in tables:\n",
    "    ins_cursor.execute(\"SELECT * FROM %s\" % table)\n",
    "    myresult = ins_cursor.fetchall()\n",
    "    print('---')\n",
    "    print('Table:', table)\n",
    "    for x in myresult[:5]:\n",
    "        print(x)"
   ]
  },
  {
   "cell_type": "markdown",
   "metadata": {},
   "source": [
    "# 6. Изменение таблиц"
   ]
  },
  {
   "cell_type": "markdown",
   "metadata": {},
   "source": [
    "Можно изменить значение критерия"
   ]
  },
  {
   "cell_type": "code",
   "execution_count": 23,
   "metadata": {
    "collapsed": true
   },
   "outputs": [],
   "source": [
    "def update_value(ins_cursor, inspector, criterion, new_value, name):\n",
    "    '''\n",
    "    Удаляет определённый предмет в расписании\n",
    "    '''\n",
    "    sql = \"UPDATE CRITERIA \\\n",
    "            SET \\\n",
    "                value = '%s' \\\n",
    "            WHERE \\\n",
    "                id_text = (SELECT id_text FROM TEXTS WHERE name='%s') AND \\\n",
    "                id_criterion = (SELECT id_criterion FROM DICT_CRITERIA WHERE criterion = '%s')\" % (new_value, name, criterion)\n",
    "    ins_cursor.execute(sql)\n",
    "    inspector.commit()"
   ]
  },
  {
   "cell_type": "code",
   "execution_count": 24,
   "metadata": {
    "collapsed": true
   },
   "outputs": [],
   "source": [
    "update_value(ins_cursor, inspector, 'num_tokens', 332, 'AAl_13_1')"
   ]
  },
  {
   "cell_type": "markdown",
   "metadata": {},
   "source": [
    "# 7. Поиск по таблице"
   ]
  },
  {
   "cell_type": "markdown",
   "metadata": {},
   "source": [
    "Пользователь вводит start_pos и end_pos и имя файла и получает, какие ошибки накладываются на этот спан"
   ]
  },
  {
   "cell_type": "code",
   "execution_count": 25,
   "metadata": {
    "collapsed": true
   },
   "outputs": [],
   "source": [
    "def mistakes_in_span(ins_cursor, start_pos, end_pos, name):\n",
    "    '''\n",
    "    Возвращает: list ошибок\n",
    "    '''\n",
    "    sql = \"SELECT DICT_TYPES_OF_MISTAKES.type \\\n",
    "    FROM MISTAKES JOIN DICT_TYPES_OF_MISTAKES ON MISTAKES.id_mistake = DICT_TYPES_OF_MISTAKES.id_type \\\n",
    "    WHERE MISTAKES.start_pos <= %s AND MISTAKES.end_pos >= %s \\\n",
    "    AND MISTAKES.id_text = (SELECT id_text FROM TEXTS WHERE name='%s');\" % (start_pos, end_pos, name)\n",
    "    ins_cursor.execute(sql)\n",
    "    token_smaller_mistake = ins_cursor.fetchall()\n",
    "    sql = \"SELECT DICT_TYPES_OF_MISTAKES.type \\\n",
    "    FROM MISTAKES JOIN DICT_TYPES_OF_MISTAKES ON MISTAKES.id_mistake = DICT_TYPES_OF_MISTAKES.id_type \\\n",
    "    WHERE MISTAKES.start_pos >= %s AND MISTAKES.end_pos <= %s \\\n",
    "    AND MISTAKES.id_text = (SELECT id_text FROM TEXTS WHERE name='%s');\" % (start_pos, end_pos, name)\n",
    "    ins_cursor.execute(sql)\n",
    "    token_larger_mistake = ins_cursor.fetchall()\n",
    "    sql = \"SELECT DICT_TYPES_OF_MISTAKES.type \\\n",
    "    FROM MISTAKES JOIN DICT_TYPES_OF_MISTAKES ON MISTAKES.id_mistake = DICT_TYPES_OF_MISTAKES.id_type \\\n",
    "    WHERE MISTAKES.start_pos >= %s AND MISTAKES.end_pos >= %s AND MISTAKES.start_pos <= %s\\\n",
    "    AND MISTAKES.id_text = (SELECT id_text FROM TEXTS WHERE name='%s');\" % (start_pos, end_pos, end_pos, name)\n",
    "    ins_cursor.execute(sql)\n",
    "    token_lefter_mistake = ins_cursor.fetchall()\n",
    "    sql = \"SELECT DICT_TYPES_OF_MISTAKES.type \\\n",
    "    FROM MISTAKES JOIN DICT_TYPES_OF_MISTAKES ON MISTAKES.id_mistake = DICT_TYPES_OF_MISTAKES.id_type \\\n",
    "    WHERE MISTAKES.start_pos <= %s AND MISTAKES.end_pos <= %s AND MISTAKES.end_pos >= %s\\\n",
    "    AND MISTAKES.id_text = (SELECT id_text FROM TEXTS WHERE name='%s');\" % (start_pos, end_pos, start_pos, name)\n",
    "    ins_cursor.execute(sql)\n",
    "    token_righter_mistake = ins_cursor.fetchall()\n",
    "    return token_smaller_mistake, token_larger_mistake, token_lefter_mistake, token_righter_mistake"
   ]
  },
  {
   "cell_type": "code",
   "execution_count": 26,
   "metadata": {},
   "outputs": [
    {
     "data": {
      "text/plain": [
       "([], [], [('Tense_form',)], [('Spelling',)])"
      ]
     },
     "execution_count": 26,
     "metadata": {},
     "output_type": "execute_result"
    }
   ],
   "source": [
    "mistakes_in_span(ins_cursor, 188, 196, 'AAl_13_1')"
   ]
  },
  {
   "cell_type": "markdown",
   "metadata": {},
   "source": [
    "1)\n",
    "\n",
    "    start_pos_mis <= start_pos_tok\n",
    "    end_pos_mis >= end_pos_tok\n",
    "    \n",
    "2)\n",
    "\n",
    "    start_pos_mis >= start_pos_tok\n",
    "    end_pos_mis <= end_pos_tok\n",
    "3)\n",
    "\n",
    "    start_pos_mis >= start_pos_tok\n",
    "    end_pos_mis >= end_pos_tok\n",
    "    start_pos_mis <= end_pos_tok\n",
    "\n",
    "4)\n",
    "\n",
    "    start_pos_mis >= start_pos_tok\n",
    "    end_pos_mis <= end_pos_tok\n",
    "    end_pos_mis >= start_pos_tok"
   ]
  },
  {
   "cell_type": "markdown",
   "metadata": {},
   "source": [
    "**Для чего это нужно:** например, парсер сработал неправильно, и я хочу посмотреть, это ошибка парсера или ошибка студента, которая повлияла на неправильную работу парсера"
   ]
  },
  {
   "cell_type": "code",
   "execution_count": 27,
   "metadata": {
    "collapsed": true
   },
   "outputs": [],
   "source": [
    "def find_num_tokens(ins_cursor, name):\n",
    "    sql = \"SELECT COUNT(*) FROM TEXTS \\\n",
    "    JOIN TOKENS ON TEXTS.id_text = TOKENS.id_text \\\n",
    "    WHERE TEXTS.name = '%s'\\\n",
    "    GROUP BY TEXTS.name;\" % name\n",
    "    ins_cursor.execute(sql)\n",
    "    result = ins_cursor.fetchall()\n",
    "    return result[0][0]"
   ]
  },
  {
   "cell_type": "code",
   "execution_count": 28,
   "metadata": {},
   "outputs": [
    {
     "data": {
      "text/plain": [
       "304"
      ]
     },
     "execution_count": 28,
     "metadata": {},
     "output_type": "execute_result"
    }
   ],
   "source": [
    "find_num_tokens(ins_cursor, 'AAl_13_1')"
   ]
  },
  {
   "cell_type": "code",
   "execution_count": 29,
   "metadata": {},
   "outputs": [],
   "source": [
    "for x in data['name']:\n",
    "    try:\n",
    "        num_tokens = find_num_tokens(ins_cursor, x)\n",
    "        insert2(ins_cursor, inspector, x, 'num_tokens', num_tokens)\n",
    "    except:\n",
    "        continue"
   ]
  },
  {
   "cell_type": "markdown",
   "metadata": {},
   "source": [
    "Пользователь хочет узнать статистику по какому-нибудь критерию (пока берём среднее, максимальное и минимальное для 'best', 'worst', 'aver')"
   ]
  },
  {
   "cell_type": "code",
   "execution_count": 30,
   "metadata": {
    "collapsed": true
   },
   "outputs": [],
   "source": [
    "def statistics(ins_cursor, criterion):\n",
    "    '''\n",
    "    Возвращает: list avg, max, min в каждой группе (из 3)\n",
    "    '''\n",
    "    sql = \"SELECT TEXTS.mark, AVG(CRITERIA.value), MAX(CRITERIA.value) , MIN(CRITERIA.value) \\\n",
    "    FROM CRITERIA JOIN TEXTS ON CRITERIA.id_text = TEXTS.id_text GROUP BY TEXTS.mark;\"\n",
    "    ins_cursor.execute(sql)\n",
    "    result = ins_cursor.fetchall()\n",
    "    return result"
   ]
  },
  {
   "cell_type": "code",
   "execution_count": 31,
   "metadata": {},
   "outputs": [
    {
     "data": {
      "text/plain": [
       "[('best', 297.1621621621622, 406.0, 185.0),\n",
       " ('aver', 261.025, 392.0, 168.0),\n",
       " ('worst', 160.64705882352942, 224.0, 50.0)]"
      ]
     },
     "execution_count": 31,
     "metadata": {},
     "output_type": "execute_result"
    }
   ],
   "source": [
    "statistics(ins_cursor, 'num_tokens')"
   ]
  },
  {
   "cell_type": "markdown",
   "metadata": {},
   "source": [
    "Считается, что в продвинутом уровне студент использует чаще глаголы, чем существительные (примитивно*), но типа как дети: сначала называют - начальный уровень, потом учат действие. Пусть пользователь получит информацию по каждому эссе: True, если больше глаголов, чем существительных.\n",
    "* Этот критерий не до конца мной исследован, тут используется примитивное измерение"
   ]
  },
  {
   "cell_type": "code",
   "execution_count": 32,
   "metadata": {
    "collapsed": true
   },
   "outputs": [],
   "source": [
    "def noun_vs_verbs(ins_cursor):\n",
    "    '''\n",
    "    Возвращает: True if number of verbs is greater than nouns for every essey\n",
    "    '''\n",
    "    sql = \"SELECT TEXTS.name, IF(SUM(DICT_POS.pos = 'VERB')>SUM(DICT_POS.pos = 'NOUN'), 1, 0) FROM TEXTS \\\n",
    "    JOIN TOKENS ON TEXTS.id_text = TOKENS.id_text \\\n",
    "    JOIN DICT_POS ON TOKENS.id_pos = DICT_POS.id_pos \\\n",
    "    WHERE DICT_POS.pos = 'NOUN' OR DICT_POS.pos = 'VERB' GROUP BY TEXTS.name;\"\n",
    "    ins_cursor.execute(sql)\n",
    "    result = ins_cursor.fetchall()\n",
    "    return result"
   ]
  },
  {
   "cell_type": "code",
   "execution_count": 33,
   "metadata": {},
   "outputs": [
    {
     "data": {
      "text/plain": [
       "[('AAl_13_1', 0),\n",
       " ('AAl_30_1', 0),\n",
       " ('ZEv_3_1', 0),\n",
       " ('EEm_14_1', 0),\n",
       " ('EEm_16_1', 0),\n",
       " ('KKo_9_1', 0),\n",
       " ('KKo_24_1', 0),\n",
       " ('ASt_21_1', 0),\n",
       " ('ASt_34_1', 0),\n",
       " ('12_1', 0),\n",
       " ('13_1', 0),\n",
       " ('AAl_2_2', 0),\n",
       " ('AAl_13_2', 0),\n",
       " ('AAl_26_2', 0),\n",
       " ('AAl_27_2', 0),\n",
       " ('VKo_2_2', 0),\n",
       " ('VKo_3_2', 0),\n",
       " ('VKo_5_2', 0),\n",
       " ('VKo_9_2', 0),\n",
       " ('VKo_12_2', 0),\n",
       " ('VKo_21_2', 0),\n",
       " ('VKo_24_2', 0),\n",
       " ('VKo_29_2', 0),\n",
       " ('VKo_34_2', 0),\n",
       " ('ZEv_3_2', 0),\n",
       " ('EEm_14_2', 0),\n",
       " ('EEm_16_2', 0),\n",
       " ('MTsy_6_2', 0),\n",
       " ('KKo_9_2', 0),\n",
       " ('KKo_24_2', 0),\n",
       " ('LPo_16_2', 0),\n",
       " ('ASt_2_2', 0),\n",
       " ('ASt_21_2', 0),\n",
       " ('ASt_34_2', 0),\n",
       " ('13_2', 0),\n",
       " ('28_2', 0),\n",
       " ('2_2', 0),\n",
       " ('10_1', 0),\n",
       " ('11_1', 0),\n",
       " ('14_1', 0),\n",
       " ('15_1', 0),\n",
       " ('16_1', 0),\n",
       " ('18_1', 0),\n",
       " ('19_1', 0),\n",
       " ('1_1', 0),\n",
       " ('20_1', 0),\n",
       " ('21_1', 0),\n",
       " ('22_1', 0),\n",
       " ('23_1', 0),\n",
       " ('24_1', 0),\n",
       " ('25_1', 0),\n",
       " ('26_1', 0),\n",
       " ('27_1', 0),\n",
       " ('28_1', 0),\n",
       " ('29_1', 0),\n",
       " ('2_1', 0),\n",
       " ('30_1', 0),\n",
       " ('10_2', 0),\n",
       " ('11_2', 0),\n",
       " ('12_2', 0),\n",
       " ('14_2', 0),\n",
       " ('15_2', 0),\n",
       " ('16_2', 0),\n",
       " ('17_2', 0),\n",
       " ('18_2', 0),\n",
       " ('19_2', 0),\n",
       " ('1_2', 0),\n",
       " ('20_2', 0),\n",
       " ('21_2', 0),\n",
       " ('22_2', 0),\n",
       " ('23_2', 0),\n",
       " ('24_2', 0),\n",
       " ('25_2', 0),\n",
       " ('26_2', 0),\n",
       " ('27_2', 0),\n",
       " ('29_2', 0),\n",
       " ('30_2', 0),\n",
       " ('VKo_8_1', 0),\n",
       " ('VKo_19_1', 0),\n",
       " ('VKo_22_1', 0),\n",
       " ('ZEv_28_1', 0),\n",
       " ('EEm_18_1', 0),\n",
       " ('EEm_28_1', 0),\n",
       " ('DZu_40_1', 0),\n",
       " ('KKo_18_1', 0),\n",
       " ('LPo_8_1', 0),\n",
       " ('17_1', 0),\n",
       " ('VKo_32_2', 0),\n",
       " ('ZEv_13_2', 0),\n",
       " ('ZEv_28_2', 0),\n",
       " ('EEm_18_2', 0),\n",
       " ('EEm_28_2', 0),\n",
       " ('DZu_40_2', 0),\n",
       " ('KKo_18_2', 0)]"
      ]
     },
     "execution_count": 33,
     "metadata": {},
     "output_type": "execute_result"
    }
   ],
   "source": [
    "noun_vs_verbs(ins_cursor)"
   ]
  },
  {
   "cell_type": "markdown",
   "metadata": {},
   "source": [
    "Хех, непродуманная теория, нужно, конечно, другие метрики, что-то посложнее. Может смотреть разницу и вывести среднее для группы?"
   ]
  },
  {
   "cell_type": "code",
   "execution_count": 34,
   "metadata": {
    "collapsed": true
   },
   "outputs": [],
   "source": [
    "def noun_vs_verbs2(ins_cursor):\n",
    "    '''\n",
    "    Возвращает: Срядняя разница между количеством глаголов и существительных в одной группе\n",
    "    '''\n",
    "    sql = \"SELECT AVG(table0.avg_diff), m FROM (SELECT TEXTS.name, TEXTS.mark as m, SUM(DICT_POS.pos = 'NOUN')-SUM(DICT_POS.pos = 'VERB') as avg_diff FROM TEXTS \\\n",
    "    JOIN TOKENS ON TEXTS.id_text = TOKENS.id_text \\\n",
    "    JOIN CRITERIA ON TEXTS.id_text = CRITERIA.id_text \\\n",
    "    JOIN DICT_POS ON TOKENS.id_pos = DICT_POS.id_pos WHERE DICT_POS.pos = 'NOUN' OR DICT_POS.pos = 'VERB' \\\n",
    "    GROUP BY TEXTS.name, CRITERIA.value, TEXTS.mark) table0 GROUP BY m;\"\n",
    "    ins_cursor.execute(sql)\n",
    "    result = ins_cursor.fetchall()\n",
    "    return result"
   ]
  },
  {
   "cell_type": "code",
   "execution_count": 35,
   "metadata": {},
   "outputs": [],
   "source": [
    "res = noun_vs_verbs2(ins_cursor)"
   ]
  },
  {
   "cell_type": "code",
   "execution_count": 36,
   "metadata": {},
   "outputs": [
    {
     "data": {
      "text/plain": [
       "[(Decimal('33.8649'), 'best'),\n",
       " (Decimal('34.0750'), 'aver'),\n",
       " (Decimal('21.6471'), 'worst')]"
      ]
     },
     "execution_count": 36,
     "metadata": {},
     "output_type": "execute_result"
    }
   ],
   "source": [
    "res"
   ]
  },
  {
   "cell_type": "code",
   "execution_count": 37,
   "metadata": {},
   "outputs": [
    {
     "data": {
      "image/png": "[encoded data removed]",
      "text/plain": [
       "<matplotlib.figure.Figure at 0x1138c3518>"
      ]
     },
     "metadata": {
      "needs_background": "light"
     },
     "output_type": "display_data"
    }
   ],
   "source": [
    "objects = ('best', 'aver', 'worst')\n",
    "y_pos = np.arange(len(objects))\n",
    "performance = [float(res[0][0]), float(res[1][0]), float(res[2][0])]\n",
    " \n",
    "plt.bar(y_pos, performance, align='center', alpha=0.5)\n",
    "plt.xticks(y_pos, objects)\n",
    "plt.ylabel('Разница')\n",
    "plt.xlabel('Оценка')\n",
    "plt.title('Разница между глаг. и сущ.')\n",
    " \n",
    "plt.show()"
   ]
  },
  {
   "cell_type": "markdown",
   "metadata": {
    "collapsed": true
   },
   "source": [
    "Гипотеза не подтвердилась, но, возможно, эксперимент неправильно проведен. Конечно, нужно количество того и того усреднить по общему количеству слов в эссе!"
   ]
  },
  {
   "cell_type": "code",
   "execution_count": 38,
   "metadata": {
    "collapsed": true
   },
   "outputs": [],
   "source": [
    "def noun_vs_verbs3(ins_cursor):\n",
    "    '''\n",
    "    Возвращает: Срядняя разница между количеством глаголов и существительных в одной группе, ксредненная по количеству токенов\n",
    "    '''\n",
    "    sql = \"SELECT AVG(table0.avg_diff), m FROM (SELECT TEXTS.name, TEXTS.mark as m, (SUM(DICT_POS.pos = 'NOUN')-SUM(DICT_POS.pos = 'VERB'))/CRITERIA.value as avg_diff FROM TEXTS \\\n",
    "    JOIN TOKENS ON TEXTS.id_text = TOKENS.id_text \\\n",
    "    JOIN CRITERIA ON TEXTS.id_text = CRITERIA.id_text \\\n",
    "    JOIN DICT_POS ON TOKENS.id_pos = DICT_POS.id_pos WHERE DICT_POS.pos = 'NOUN' OR DICT_POS.pos = 'VERB' \\\n",
    "    GROUP BY TEXTS.name, CRITERIA.value, TEXTS.mark) table0 GROUP BY m;\"\n",
    "    ins_cursor.execute(sql)\n",
    "    result = ins_cursor.fetchall()\n",
    "    return result"
   ]
  },
  {
   "cell_type": "code",
   "execution_count": 39,
   "metadata": {},
   "outputs": [],
   "source": [
    "res = noun_vs_verbs3(ins_cursor)"
   ]
  },
  {
   "cell_type": "code",
   "execution_count": 40,
   "metadata": {},
   "outputs": [
    {
     "data": {
      "text/plain": [
       "[(0.11432144328385144, 'best'),\n",
       " (0.13489049175539192, 'aver'),\n",
       " (0.13582955841662933, 'worst')]"
      ]
     },
     "execution_count": 40,
     "metadata": {},
     "output_type": "execute_result"
    }
   ],
   "source": [
    "res"
   ]
  },
  {
   "cell_type": "code",
   "execution_count": 41,
   "metadata": {},
   "outputs": [
    {
     "data": {
      "image/png": "[encoded data removed]",
      "text/plain": [
       "<matplotlib.figure.Figure at 0x1138f42e8>"
      ]
     },
     "metadata": {
      "needs_background": "light"
     },
     "output_type": "display_data"
    }
   ],
   "source": [
    "objects = ('best', 'aver', 'worst')\n",
    "y_pos = np.arange(len(objects))\n",
    "performance = [float(res[0][0]), float(res[1][0]), float(res[2][0])]\n",
    " \n",
    "plt.bar(y_pos, performance, align='center', alpha=0.5)\n",
    "plt.xticks(y_pos, objects)\n",
    "plt.ylabel('Разница')\n",
    "plt.xlabel('Оценка')\n",
    "plt.title('Разница между глаг. и сущ.')\n",
    " \n",
    "plt.show()"
   ]
  },
  {
   "cell_type": "markdown",
   "metadata": {},
   "source": [
    "Вот тут-то и оно! Нужно все равно другие метрики... Ну или хотя бы посчитать, насколько такая разница значима."
   ]
  },
  {
   "cell_type": "code",
   "execution_count": null,
   "metadata": {
    "collapsed": true
   },
   "outputs": [],
   "source": []
  }
 ],
 "metadata": {
  "kernelspec": {
   "display_name": "Python 3",
   "language": "python",
   "name": "python3"
  },
  "language_info": {
   "codemirror_mode": {
    "name": "ipython",
    "version": 3
   },
   "file_extension": ".py",
   "mimetype": "text/x-python",
   "name": "python",
   "nbconvert_exporter": "python",
   "pygments_lexer": "ipython3",
   "version": "3.6.3"
  }
 },
 "nbformat": 4,
 "nbformat_minor": 2
}
